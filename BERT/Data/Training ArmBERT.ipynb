{
 "cells": [
  {
   "cell_type": "code",
   "execution_count": 1,
   "metadata": {},
   "outputs": [
    {
     "name": "stdout",
     "output_type": "stream",
     "text": [
      "fatal: destination path 'bert' already exists and is not an empty directory.\r\n"
     ]
    }
   ],
   "source": [
    "!git clone https://github.com/google-research/bert"
   ]
  },
  {
   "cell_type": "code",
   "execution_count": 5,
   "metadata": {},
   "outputs": [
    {
     "name": "stdout",
     "output_type": "stream",
     "text": [
      "Copying gs://bucket_armbert/hy.txt...\n",
      "| [1 files][ 12.6 GiB/ 12.6 GiB]   67.7 MiB/s                                   \n",
      "Operation completed over 1 objects/12.6 GiB.                                     \n"
     ]
    }
   ],
   "source": [
    "!gsutil cp gs://bucket_armbert/hy.txt ."
   ]
  },
  {
   "cell_type": "code",
   "execution_count": 6,
   "metadata": {},
   "outputs": [
    {
     "name": "stdout",
     "output_type": "stream",
     "text": [
      "mkdir: cannot create directory ‘./shards’: File exists\n",
      "^C\n",
      "0000  0004  0008  0012\t0016  0020  0024  0028\t0032  0036  0040  0161\n",
      "0001  0005  0009  0013\t0017  0021  0025  0029\t0033  0037  0041\n",
      "0002  0006  0010  0014\t0018  0022  0026  0030\t0034  0038  0042\n",
      "0003  0007  0011  0015\t0019  0023  0027  0031\t0035  0039  0160\n"
     ]
    }
   ],
   "source": [
    "!mkdir ./shards\n",
    "!split -a 4 -l 256000 -d 'hy.txt' ./shards/\n",
    "!ls ./shards/"
   ]
  },
  {
   "cell_type": "code",
   "execution_count": 1,
   "metadata": {},
   "outputs": [],
   "source": [
    "MAX_SEQ_LENGTH = 128 #@param {type:\"integer\"}\n",
    "MASKED_LM_PROB = 0.15 #@param\n",
    "MAX_PREDICTIONS = 20 #@param {type:\"integer\"}\n",
    "DO_LOWER_CASE = False #@param {type:\"boolean\"}\n",
    "PROCESSES = 1 #@param {type:\"integer\"}\n",
    "VOC_FNAME = 'armenian-vocab.txt'\n",
    "PRETRAINING_DIR = \"./Data\" #@param {type:\"string\"}"
   ]
  },
  {
   "cell_type": "code",
   "execution_count": 2,
   "metadata": {},
   "outputs": [],
   "source": [
    "XARGS_CMD = (\"ls ./shards/ | \"\n",
    "             \"xargs -n 1 -P {} -I{} \"\n",
    "             \"python3 bert/create_pretraining_data.py \"\n",
    "             \"--input_file=./shards/{} \"\n",
    "             \"--output_file={}/{}.tfrecord \"\n",
    "             \"--vocab_file={} \"\n",
    "             \"--do_lower_case={} \"\n",
    "             \"--max_predictions_per_seq={} \"\n",
    "             \"--max_seq_length={} \"\n",
    "             \"--masked_lm_prob={} \"\n",
    "             \"--random_seed=34 \"\n",
    "             \"--dupe_factor=5\")\n",
    "\n",
    "XARGS_CMD = XARGS_CMD.format(PROCESSES, '{}', '{}', PRETRAINING_DIR, '{}', \n",
    "                             VOC_FNAME, DO_LOWER_CASE, \n",
    "                             MAX_PREDICTIONS, MAX_SEQ_LENGTH, MASKED_LM_PROB)"
   ]
  },
  {
   "cell_type": "code",
   "execution_count": 1,
   "metadata": {},
   "outputs": [
    {
     "name": "stdout",
     "output_type": "stream",
     "text": [
      "WARNING:tensorflow:From /opt/conda/lib/python3.7/site-packages/tensorflow_core/python/compat/v2_compat.py:68: disable_resource_variables (from tensorflow.python.ops.variable_scope) is deprecated and will be removed in a future version.\n",
      "Instructions for updating:\n",
      "non-resource variables are not supported in the long term\n"
     ]
    }
   ],
   "source": [
    "import tensorflow.compat.v1 as tf\n",
    "tf.disable_v2_behavior()"
   ]
  },
  {
   "cell_type": "code",
   "execution_count": null,
   "metadata": {
    "scrolled": true
   },
   "outputs": [
    {
     "name": "stdout",
     "output_type": "stream",
     "text": [
      "INFO:tensorflow:*** Reading from input files ***\r\n",
      "I0605 14:04:47.226516 139963333158720 create_pretraining_data.py:446] *** Reading from input files ***\r\n",
      "INFO:tensorflow:  ./shards/0000\r\n",
      "I0605 14:04:47.226745 139963333158720 create_pretraining_data.py:448]   ./shards/0000\r\n"
     ]
    }
   ],
   "source": [
    "tf.gfile.MkDir(PRETRAINING_DIR)\n",
    "!$XARGS_CMD"
   ]
  },
  {
   "cell_type": "code",
   "execution_count": 3,
   "metadata": {},
   "outputs": [],
   "source": [
    "BUCKET_NAME = \"bucket_armbert\" #@param {type:\"string\"}\n",
    "MODEL_DIR = \"bert_model\" #@param {type:\"string\"}\n",
    "tf.gfile.MkDir(MODEL_DIR)\n",
    "\n",
    "if not BUCKET_NAME:\n",
    "    log.warning(\"WARNING: BUCKET_NAME is not set. \"\n",
    "              \"You will not be able to train the model.\")"
   ]
  },
  {
   "cell_type": "code",
   "execution_count": 4,
   "metadata": {},
   "outputs": [],
   "source": [
    "with open('armenian-vocab.txt', 'r') as f:\n",
    "    bert_vocab = f.read().split('\\n')"
   ]
  },
  {
   "cell_type": "code",
   "execution_count": 5,
   "metadata": {},
   "outputs": [],
   "source": [
    "import json\n",
    "# use this for BERT-base\n",
    "\n",
    "bert_base_config = {\n",
    "  \"attention_probs_dropout_prob\": 0.1, \n",
    "  \"directionality\": \"bidi\", \n",
    "  \"hidden_act\": \"gelu\", \n",
    "  \"hidden_dropout_prob\": 0.1, \n",
    "  \"hidden_size\": 768, \n",
    "  \"initializer_range\": 0.02, \n",
    "  \"intermediate_size\": 3072, \n",
    "  \"max_position_embeddings\": 512, \n",
    "  \"num_attention_heads\": 12, \n",
    "  \"num_hidden_layers\": 12, \n",
    "  \"pooler_fc_size\": 768, \n",
    "  \"pooler_num_attention_heads\": 12, \n",
    "  \"pooler_num_fc_layers\": 3, \n",
    "  \"pooler_size_per_head\": 128, \n",
    "  \"pooler_type\": \"first_token_transform\", \n",
    "  \"type_vocab_size\": 2, \n",
    "  \"vocab_size\": 64000\n",
    "}\n",
    "\n",
    "with open(\"{}/bert_config.json\".format(MODEL_DIR), \"w\") as fo:\n",
    "    json.dump(bert_base_config, fo, indent=2)\n",
    "\n",
    "with open(\"{}/{}\".format(MODEL_DIR, 'armenian-vocab.txt'), \"w\") as fo:\n",
    "    for token in bert_vocab:\n",
    "        fo.write(token + \"\\n\")"
   ]
  },
  {
   "cell_type": "code",
   "execution_count": 6,
   "metadata": {},
   "outputs": [
    {
     "name": "stdout",
     "output_type": "stream",
     "text": [
      "bucket_armbert\r\n"
     ]
    }
   ],
   "source": [
    "!echo $BUCKET_NAME"
   ]
  },
  {
   "cell_type": "code",
   "execution_count": 7,
   "metadata": {},
   "outputs": [
    {
     "name": "stdout",
     "output_type": "stream",
     "text": [
      "Copying file://bert_model/armenian-vocab.txt [Content-Type=text/plain]...\n",
      "Copying file://bert_model/bert_config.json [Content-Type=application/json]...   \n",
      "Copying file://./Data/0017.tfrecord [Content-Type=application/octet-stream]...  \n",
      "==> NOTE: You are uploading one or more large file(s), which would run          \n",
      "significantly faster if you enable parallel composite uploads. This\n",
      "feature can be enabled by editing the\n",
      "\"parallel_composite_upload_threshold\" value in your .boto\n",
      "configuration file. However, note that if you do this large files will\n",
      "be uploaded as `composite objects\n",
      "<https://cloud.google.com/storage/docs/composite-objects>`_,which\n",
      "means that any user who downloads such objects will need to have a\n",
      "compiled crcmod installed (see \"gsutil help crcmod\"). This is because\n",
      "without a compiled crcmod, computing checksums on composite objects is\n",
      "so slow that gsutil disables downloads of composite objects.\n",
      "\n",
      "Copying file://./Data/0083.tfrecord [Content-Type=application/octet-stream]...\n",
      "Copying file://./Data/0040.tfrecord [Content-Type=application/octet-stream]...  \n",
      "Copying file://./Data/0046.tfrecord [Content-Type=application/octet-stream]...  \n",
      "Copying file://./Data/0079.tfrecord [Content-Type=application/octet-stream]...\n",
      "Copying file://./Data/0117.tfrecord [Content-Type=application/octet-stream]...  \n",
      "Copying file://./Data/0042.tfrecord [Content-Type=application/octet-stream]...  \n",
      "Copying file://./Data/0032.tfrecord [Content-Type=application/octet-stream]...  \n",
      "Copying file://./Data/0107.tfrecord [Content-Type=application/octet-stream]...  \n",
      "Copying file://./Data/0039.tfrecord [Content-Type=application/octet-stream]...\n",
      "Copying file://./Data/0005.tfrecord [Content-Type=application/octet-stream]...  \n",
      "Copying file://./Data/0013.tfrecord [Content-Type=application/octet-stream]...  \n",
      "Copying file://./Data/0028.tfrecord [Content-Type=application/octet-stream]...\n",
      "Copying file://./Data/0045.tfrecord [Content-Type=application/octet-stream]...\n",
      "Copying file://./Data/0124.tfrecord [Content-Type=application/octet-stream]...  \n",
      "Copying file://./Data/0075.tfrecord [Content-Type=application/octet-stream]...\n",
      "Copying file://./Data/0120.tfrecord [Content-Type=application/octet-stream]...\n",
      "Copying file://./Data/0116.tfrecord [Content-Type=application/octet-stream]...  \n",
      "Copying file://./Data/0086.tfrecord [Content-Type=application/octet-stream]...  \n",
      "Copying file://./Data/0154.tfrecord [Content-Type=application/octet-stream]...  \n",
      "Copying file://./Data/0114.tfrecord [Content-Type=application/octet-stream]...  \n",
      "Copying file://./Data/0009.tfrecord [Content-Type=application/octet-stream]...\n",
      "Copying file://./Data/0112.tfrecord [Content-Type=application/octet-stream]...  \n",
      "Copying file://./Data/0152.tfrecord [Content-Type=application/octet-stream]...  \n",
      "Copying file://./Data/0102.tfrecord [Content-Type=application/octet-stream]...  \n",
      "Copying file://./Data/0091.tfrecord [Content-Type=application/octet-stream]...  \n",
      "Copying file://./Data/0157.tfrecord [Content-Type=application/octet-stream]...  \n",
      "Copying file://./Data/0025.tfrecord [Content-Type=application/octet-stream]...  \n",
      "Copying file://./Data/0119.tfrecord [Content-Type=application/octet-stream]...\n",
      "Copying file://./Data/0036.tfrecord [Content-Type=application/octet-stream]...  \n",
      "Copying file://./Data/0110.tfrecord [Content-Type=application/octet-stream]...  \n",
      "Copying file://./Data/0147.tfrecord [Content-Type=application/octet-stream]...\n",
      "Copying file://./Data/0090.tfrecord [Content-Type=application/octet-stream]...\n",
      "Copying file://./Data/0115.tfrecord [Content-Type=application/octet-stream]...  \n",
      "Copying file://./Data/0043.tfrecord [Content-Type=application/octet-stream]...  \n",
      "Copying file://./Data/0023.tfrecord [Content-Type=application/octet-stream]...  \n",
      "Copying file://./Data/0149.tfrecord [Content-Type=application/octet-stream]...  \n",
      "Copying file://./Data/0072.tfrecord [Content-Type=application/octet-stream]...  \n",
      "Copying file://./Data/0159.tfrecord [Content-Type=application/octet-stream]...  \n",
      "Copying file://./Data/0151.tfrecord [Content-Type=application/octet-stream]...  \n",
      "Copying file://./Data/0071.tfrecord [Content-Type=application/octet-stream]...  \n",
      "Copying file://./Data/0076.tfrecord [Content-Type=application/octet-stream]...  \n",
      "Copying file://./Data/0118.tfrecord [Content-Type=application/octet-stream]...  \n",
      "Copying file://./Data/0129.tfrecord [Content-Type=application/octet-stream]...  \n",
      "Copying file://./Data/0067.tfrecord [Content-Type=application/octet-stream]...  \n",
      "Copying file://./Data/0058.tfrecord [Content-Type=application/octet-stream]...  \n",
      "Copying file://./Data/0065.tfrecord [Content-Type=application/octet-stream]...  \n",
      "Copying file://./Data/0001.tfrecord [Content-Type=application/octet-stream]...  \n",
      "Copying file://./Data/0082.tfrecord [Content-Type=application/octet-stream]...  \n",
      "Copying file://./Data/0103.tfrecord [Content-Type=application/octet-stream]...  \n",
      "Copying file://./Data/0125.tfrecord [Content-Type=application/octet-stream]...  \n",
      "Copying file://./Data/0123.tfrecord [Content-Type=application/octet-stream]...  \n",
      "Copying file://./Data/0134.tfrecord [Content-Type=application/octet-stream]...  \n",
      "Copying file://./Data/0037.tfrecord [Content-Type=application/octet-stream]...  \n",
      "Copying file://./Data/0048.tfrecord [Content-Type=application/octet-stream]...  \n",
      "Copying file://./Data/0024.tfrecord [Content-Type=application/octet-stream]...  \n",
      "Copying file://./Data/0144.tfrecord [Content-Type=application/octet-stream]...  \n",
      "Copying file://./Data/0087.tfrecord [Content-Type=application/octet-stream]...  \n",
      "Copying file://./Data/0148.tfrecord [Content-Type=application/octet-stream]...  \n",
      "Copying file://./Data/0019.tfrecord [Content-Type=application/octet-stream]...  \n",
      "Copying file://./Data/0056.tfrecord [Content-Type=application/octet-stream]...  \n",
      "Copying file://./Data/0029.tfrecord [Content-Type=application/octet-stream]...  \n",
      "Copying file://./Data/0097.tfrecord [Content-Type=application/octet-stream]...\n",
      "Copying file://./Data/0106.tfrecord [Content-Type=application/octet-stream]...  \n",
      "Copying file://./Data/0070.tfrecord [Content-Type=application/octet-stream]...  \n",
      "Copying file://./Data/0108.tfrecord [Content-Type=application/octet-stream]...  \n",
      "Copying file://./Data/0095.tfrecord [Content-Type=application/octet-stream]...  \n",
      "Copying file://./Data/0100.tfrecord [Content-Type=application/octet-stream]...  \n",
      "Copying file://./Data/0062.tfrecord [Content-Type=application/octet-stream]...  \n",
      "Copying file://./Data/0007.tfrecord [Content-Type=application/octet-stream]...  \n",
      "Copying file://./Data/0016.tfrecord [Content-Type=application/octet-stream]...  \n",
      "Copying file://./Data/0096.tfrecord [Content-Type=application/octet-stream]...  \n",
      "Copying file://./Data/0121.tfrecord [Content-Type=application/octet-stream]...  \n",
      "Copying file://./Data/0074.tfrecord [Content-Type=application/octet-stream]...  \n",
      "Copying file://./Data/0143.tfrecord [Content-Type=application/octet-stream]...  \n",
      "Copying file://./Data/0021.tfrecord [Content-Type=application/octet-stream]...  \n",
      "Copying file://./Data/0012.tfrecord [Content-Type=application/octet-stream]...  \n",
      "Copying file://./Data/0063.tfrecord [Content-Type=application/octet-stream]...  \n",
      "Copying file://./Data/0084.tfrecord [Content-Type=application/octet-stream]...  \n",
      "Copying file://./Data/0053.tfrecord [Content-Type=application/octet-stream]...  \n",
      "Copying file://./Data/0081.tfrecord [Content-Type=application/octet-stream]...  \n",
      "Copying file://./Data/0092.tfrecord [Content-Type=application/octet-stream]...  \n",
      "Copying file://./Data/0034.tfrecord [Content-Type=application/octet-stream]...  \n",
      "Copying file://./Data/0050.tfrecord [Content-Type=application/octet-stream]...  \n",
      "Copying file://./Data/0093.tfrecord [Content-Type=application/octet-stream]...  \n",
      "Copying file://./Data/0145.tfrecord [Content-Type=application/octet-stream]...  \n",
      "Copying file://./Data/0138.tfrecord [Content-Type=application/octet-stream]...  \n",
      "Copying file://./Data/0088.tfrecord [Content-Type=application/octet-stream]...  \n",
      "Copying file://./Data/0066.tfrecord [Content-Type=application/octet-stream]...  \n",
      "Copying file://./Data/0069.tfrecord [Content-Type=application/octet-stream]...  \n",
      "Copying file://./Data/0054.tfrecord [Content-Type=application/octet-stream]...  \n",
      "Copying file://./Data/0142.tfrecord [Content-Type=application/octet-stream]...  \n",
      "Copying file://./Data/0011.tfrecord [Content-Type=application/octet-stream]...  \n",
      "Copying file://./Data/0085.tfrecord [Content-Type=application/octet-stream]...  \n",
      "Copying file://./Data/0006.tfrecord [Content-Type=application/octet-stream]...  \n",
      "Copying file://./Data/0004.tfrecord [Content-Type=application/octet-stream]...  \n",
      "Copying file://./Data/0105.tfrecord [Content-Type=application/octet-stream]...  \n",
      "Copying file://./Data/0132.tfrecord [Content-Type=application/octet-stream]...  \n",
      "Copying file://./Data/0060.tfrecord [Content-Type=application/octet-stream]...  \n",
      "Copying file://./Data/0101.tfrecord [Content-Type=application/octet-stream]...  \n",
      "Copying file://./Data/0027.tfrecord [Content-Type=application/octet-stream]...  \n",
      "Copying file://./Data/0051.tfrecord [Content-Type=application/octet-stream]...  \n",
      "Copying file://./Data/0130.tfrecord [Content-Type=application/octet-stream]...  \n",
      "Copying file://./Data/0055.tfrecord [Content-Type=application/octet-stream]...  \n",
      "Copying file://./Data/0020.tfrecord [Content-Type=application/octet-stream]...  \n",
      "Copying file://./Data/0098.tfrecord [Content-Type=application/octet-stream]...  \n",
      "Copying file://./Data/0035.tfrecord [Content-Type=application/octet-stream]...  \n",
      "Copying file://./Data/0068.tfrecord [Content-Type=application/octet-stream]...  \n",
      "Copying file://./Data/0109.tfrecord [Content-Type=application/octet-stream]...  \n",
      "Copying file://./Data/0158.tfrecord [Content-Type=application/octet-stream]...  \n",
      "Copying file://./Data/0140.tfrecord [Content-Type=application/octet-stream]...  \n",
      "Copying file://./Data/0099.tfrecord [Content-Type=application/octet-stream]...  \n",
      "Copying file://./Data/0008.tfrecord [Content-Type=application/octet-stream]...  \n",
      "Copying file://./Data/0153.tfrecord [Content-Type=application/octet-stream]...  \n",
      "Copying file://./Data/0139.tfrecord [Content-Type=application/octet-stream]...  \n",
      "Copying file://./Data/0018.tfrecord [Content-Type=application/octet-stream]...  \n",
      "Copying file://./Data/0015.tfrecord [Content-Type=application/octet-stream]...  \n",
      "Copying file://./Data/0104.tfrecord [Content-Type=application/octet-stream]...  \n",
      "Copying file://./Data/0041.tfrecord [Content-Type=application/octet-stream]...  \n",
      "Copying file://./Data/0089.tfrecord [Content-Type=application/octet-stream]...  \n",
      "Copying file://./Data/0128.tfrecord [Content-Type=application/octet-stream]...  \n",
      "Copying file://./Data/0061.tfrecord [Content-Type=application/octet-stream]...  \n",
      "Copying file://./Data/0126.tfrecord [Content-Type=application/octet-stream]...  \n",
      "Copying file://./Data/0080.tfrecord [Content-Type=application/octet-stream]...  \n",
      "Copying file://./Data/0052.tfrecord [Content-Type=application/octet-stream]...  \n",
      "Copying file://./Data/0047.tfrecord [Content-Type=application/octet-stream]...  \n",
      "Copying file://./Data/0133.tfrecord [Content-Type=application/octet-stream]...  \n",
      "Copying file://./Data/0146.tfrecord [Content-Type=application/octet-stream]...  \n",
      "Copying file://./Data/0031.tfrecord [Content-Type=application/octet-stream]...  \n",
      "Copying file://./Data/0131.tfrecord [Content-Type=application/octet-stream]...  \n",
      "Copying file://./Data/0155.tfrecord [Content-Type=application/octet-stream]...  \n",
      "Copying file://./Data/0003.tfrecord [Content-Type=application/octet-stream]...  \n",
      "Copying file://./Data/0059.tfrecord [Content-Type=application/octet-stream]...  \n",
      "Copying file://./Data/0022.tfrecord [Content-Type=application/octet-stream]...  \n",
      "Copying file://./Data/0113.tfrecord [Content-Type=application/octet-stream]...  \n",
      "Copying file://./Data/0127.tfrecord [Content-Type=application/octet-stream]...  \n",
      "Copying file://./Data/0049.tfrecord [Content-Type=application/octet-stream]...  \n",
      "Copying file://./Data/0002.tfrecord [Content-Type=application/octet-stream]...  \n",
      "Copying file://./Data/0156.tfrecord [Content-Type=application/octet-stream]...  \n",
      "Copying file://./Data/0150.tfrecord [Content-Type=application/octet-stream]...  \n",
      "Copying file://./Data/0137.tfrecord [Content-Type=application/octet-stream]...  \n",
      "Copying file://./Data/0073.tfrecord [Content-Type=application/octet-stream]...  \n",
      "Copying file://./Data/0122.tfrecord [Content-Type=application/octet-stream]...  \n",
      "Copying file://./Data/0030.tfrecord [Content-Type=application/octet-stream]...  \n",
      "Copying file://./Data/0038.tfrecord [Content-Type=application/octet-stream]...  \n",
      "Copying file://./Data/0064.tfrecord [Content-Type=application/octet-stream]...  \n",
      "Copying file://./Data/0136.tfrecord [Content-Type=application/octet-stream]...  \n",
      "Copying file://./Data/0078.tfrecord [Content-Type=application/octet-stream]...  \n",
      "Copying file://./Data/0010.tfrecord [Content-Type=application/octet-stream]...  \n",
      "Copying file://./Data/0057.tfrecord [Content-Type=application/octet-stream]...  \n",
      "Copying file://./Data/0077.tfrecord [Content-Type=application/octet-stream]...  \n",
      "Copying file://./Data/0044.tfrecord [Content-Type=application/octet-stream]...  \n",
      "Copying file://./Data/0111.tfrecord [Content-Type=application/octet-stream]...  \n",
      "Copying file://./Data/0026.tfrecord [Content-Type=application/octet-stream]...  \n",
      "Copying file://./Data/0135.tfrecord [Content-Type=application/octet-stream]...  \n",
      "Copying file://./Data/0033.tfrecord [Content-Type=application/octet-stream]...  \n",
      "Copying file://./Data/0141.tfrecord [Content-Type=application/octet-stream]...  \n",
      "Copying file://./Data/0014.tfrecord [Content-Type=application/octet-stream]...  \n",
      "Copying file://./Data/0094.tfrecord [Content-Type=application/octet-stream]...  \n",
      "/ [161/161 files][ 45.0 GiB/ 45.0 GiB] 100% Done  97.5 MiB/s ETA 00:00:00       \n",
      "Operation completed over 161 objects/45.0 GiB.                                   \n"
     ]
    }
   ],
   "source": [
    "if BUCKET_NAME:\n",
    "    !gsutil -m cp -r $MODEL_DIR $PRETRAINING_DIR gs://$BUCKET_NAME"
   ]
  },
  {
   "cell_type": "code",
   "execution_count": 2,
   "metadata": {},
   "outputs": [
    {
     "name": "stderr",
     "output_type": "stream",
     "text": [
      "2021-06-12 08:26:01,196 :  Using TPU runtime\n",
      "2021-06-12 08:26:01,214 :  TPU address is grpc://10.17.71.218:8470\n",
      "2021-06-12 08:26:01,216 :  \n",
      "The TensorFlow contrib module will not be included in TensorFlow 2.0.\n",
      "For more information, please see:\n",
      "  * https://github.com/tensorflow/community/blob/master/rfcs/20180907-contrib-sunset.md\n",
      "  * https://github.com/tensorflow/addons\n",
      "  * https://github.com/tensorflow/io (for I/O related ops)\n",
      "If you depend on functionality not listed there, please file an issue.\n",
      "\n"
     ]
    }
   ],
   "source": [
    "import os\n",
    "import logging\n",
    "import tensorflow\n",
    "import json\n",
    "\n",
    "# configure logging\n",
    "log = logging.getLogger('tensorflow')\n",
    "log.setLevel(logging.INFO)\n",
    "\n",
    "# create formatter and add it to the handlers\n",
    "formatter = logging.Formatter('%(asctime)s :  %(message)s')\n",
    "sh = logging.StreamHandler()\n",
    "sh.setLevel(logging.INFO)\n",
    "sh.setFormatter(formatter)\n",
    "log.handlers = [sh]\n",
    "\n",
    "if 'XRT_TPU_CONFIG' in os.environ:\n",
    "    log.info(\"Using TPU runtime\")\n",
    "    USE_TPU = True\n",
    "    TPU_ADDRESS = 'grpc://' + os.environ['XRT_TPU_CONFIG'].split(';')[2]\n",
    "\n",
    "    with tf.Session(TPU_ADDRESS) as session:\n",
    "        log.info('TPU address is ' + TPU_ADDRESS)\n",
    "        # Upload credentials to TPU.\n",
    "        with open('armeniannlp-314719-f051f32c157e.json', 'r') as f:\n",
    "            auth_info = json.load(f)\n",
    "        tensorflow.contrib.cloud.configure_gcs(session, credentials=auth_info)\n",
    "    \n",
    "else:\n",
    "    log.warning('Not connected to TPU runtime')\n",
    "    USE_TPU = False"
   ]
  },
  {
   "cell_type": "code",
   "execution_count": 3,
   "metadata": {},
   "outputs": [
    {
     "name": "stderr",
     "output_type": "stream",
     "text": [
      "2021-06-12 08:26:05,257 :  Using checkpoint: gs://bucket_armbert/bert_model/model.ckpt-1000000\n",
      "2021-06-12 08:26:05,258 :  Using 159 data shards\n"
     ]
    }
   ],
   "source": [
    "from bert import modeling\n",
    "\n",
    "BUCKET_NAME = \"bucket_armbert\" #@param {type:\"string\"}\n",
    "MODEL_DIR = \"bert_model\" #@param {type:\"string\"}\n",
    "PRETRAINING_DIR = \"Data\" #@param {type:\"string\"}\n",
    "VOC_FNAME = \"armenian-vocab.txt\" #@param {type:\"string\"}\n",
    "\n",
    "# Input data pipeline config\n",
    "TRAIN_BATCH_SIZE = 128 #@param {type:\"integer\"}\n",
    "MAX_PREDICTIONS = 20 #@param {type:\"integer\"}\n",
    "MAX_SEQ_LENGTH = 128 #@param {type:\"integer\"}\n",
    "MASKED_LM_PROB = 0.15 #@param\n",
    "\n",
    "# Training procedure config\n",
    "EVAL_BATCH_SIZE = 64\n",
    "LEARNING_RATE = 2e-5\n",
    "TRAIN_STEPS = 1000000 #@param {type:\"integer\"}\n",
    "SAVE_CHECKPOINTS_STEPS = 2500 #@param {type:\"integer\"}\n",
    "NUM_TPU_CORES = 8\n",
    "\n",
    "if BUCKET_NAME:\n",
    "    BUCKET_PATH = \"gs://{}\".format(BUCKET_NAME)\n",
    "else:\n",
    "    BUCKET_PATH = \".\"\n",
    "\n",
    "BERT_GCS_DIR = \"{}/{}\".format(BUCKET_PATH, MODEL_DIR)\n",
    "DATA_GCS_DIR = \"{}/{}\".format(BUCKET_PATH, PRETRAINING_DIR)\n",
    "\n",
    "VOCAB_FILE = os.path.join(BERT_GCS_DIR, VOC_FNAME)\n",
    "CONFIG_FILE = os.path.join(BERT_GCS_DIR, \"bert_config.json\")\n",
    "\n",
    "INIT_CHECKPOINT = tf.train.latest_checkpoint(BERT_GCS_DIR)\n",
    "\n",
    "bert_config = modeling.BertConfig.from_json_file(CONFIG_FILE)\n",
    "input_files = tf.gfile.Glob(os.path.join(DATA_GCS_DIR,'*tfrecord'))\n",
    "\n",
    "log.info(\"Using checkpoint: {}\".format(INIT_CHECKPOINT))\n",
    "log.info(\"Using {} data shards\".format(len(input_files)))"
   ]
  },
  {
   "cell_type": "code",
   "execution_count": 4,
   "metadata": {},
   "outputs": [
    {
     "name": "stderr",
     "output_type": "stream",
     "text": [
      "2021-06-12 08:26:08,015 :  Estimator's model_fn (<function model_fn_builder.<locals>.model_fn at 0x7f7699040560>) includes params argument, but params are not passed to Estimator.\n",
      "2021-06-12 08:26:08,017 :  Using config: {'_model_dir': 'gs://bucket_armbert/bert_model', '_tf_random_seed': None, '_save_summary_steps': 100, '_save_checkpoints_steps': 2500, '_save_checkpoints_secs': None, '_session_config': allow_soft_placement: true\n",
      "cluster_def {\n",
      "  job {\n",
      "    name: \"worker\"\n",
      "    tasks {\n",
      "      key: 0\n",
      "      value: \"10.17.71.218:8470\"\n",
      "    }\n",
      "  }\n",
      "}\n",
      "isolate_session_state: true\n",
      ", '_keep_checkpoint_max': 5, '_keep_checkpoint_every_n_hours': 10000, '_log_step_count_steps': None, '_train_distribute': None, '_device_fn': None, '_protocol': None, '_eval_distribute': None, '_experimental_distribute': None, '_experimental_max_worker_delay_secs': None, '_session_creation_timeout_secs': 7200, '_service': None, '_cluster_spec': <tensorflow.python.training.server_lib.ClusterSpec object at 0x7f7699052f50>, '_task_type': 'worker', '_task_id': 0, '_global_id_in_cluster': 0, '_master': 'grpc://10.17.71.218:8470', '_evaluation_master': 'grpc://10.17.71.218:8470', '_is_chief': True, '_num_ps_replicas': 0, '_num_worker_replicas': 1, '_tpu_config': TPUConfig(iterations_per_loop=2500, num_shards=8, num_cores_per_replica=None, per_host_input_for_training=3, tpu_job_name=None, initial_infeed_sleep_secs=None, input_partition_dims=None, eval_training_input_configuration=2, experimental_host_call_every_n_steps=1), '_cluster': <tensorflow.python.distribute.cluster_resolver.tpu_cluster_resolver.TPUClusterResolver object at 0x7f76b1591c90>}\n",
      "2021-06-12 08:26:08,018 :  _TPUContext: eval_on_tpu True\n"
     ]
    }
   ],
   "source": [
    "from bert.run_pretraining import input_fn_builder, model_fn_builder\n",
    "\n",
    "model_fn = model_fn_builder(\n",
    "      bert_config=bert_config,\n",
    "      init_checkpoint=INIT_CHECKPOINT,\n",
    "      learning_rate=LEARNING_RATE,\n",
    "      num_train_steps=TRAIN_STEPS,\n",
    "      num_warmup_steps=10,\n",
    "      use_tpu=USE_TPU,\n",
    "      use_one_hot_embeddings=True)\n",
    "\n",
    "tpu_cluster_resolver = tensorflow.contrib.cluster_resolver.TPUClusterResolver(TPU_ADDRESS)\n",
    "\n",
    "run_config = tensorflow.contrib.tpu.RunConfig(\n",
    "    cluster=tpu_cluster_resolver,\n",
    "    model_dir=BERT_GCS_DIR,\n",
    "    save_checkpoints_steps=SAVE_CHECKPOINTS_STEPS,\n",
    "    tpu_config=tensorflow.contrib.tpu.TPUConfig(\n",
    "        iterations_per_loop=SAVE_CHECKPOINTS_STEPS,\n",
    "        num_shards=NUM_TPU_CORES,\n",
    "        per_host_input_for_training=tensorflow.contrib.tpu.InputPipelineConfig.PER_HOST_V2))\n",
    "\n",
    "estimator = tensorflow.contrib.tpu.TPUEstimator(\n",
    "    use_tpu=USE_TPU,\n",
    "    model_fn=model_fn,\n",
    "    config=run_config,\n",
    "    train_batch_size=TRAIN_BATCH_SIZE,\n",
    "    eval_batch_size=EVAL_BATCH_SIZE)\n",
    "  \n",
    "train_input_fn = input_fn_builder(\n",
    "        input_files=input_files,\n",
    "        max_seq_length=MAX_SEQ_LENGTH,\n",
    "        max_predictions_per_seq=MAX_PREDICTIONS,\n",
    "        is_training=True)"
   ]
  },
  {
   "cell_type": "code",
   "execution_count": 5,
   "metadata": {},
   "outputs": [
    {
     "name": "stderr",
     "output_type": "stream",
     "text": [
      "2021-06-12 08:26:12,845 :  Skipping training since max_steps has already saved.\n",
      "2021-06-12 08:26:12,846 :  training_loop marked as finished\n"
     ]
    },
    {
     "data": {
      "text/plain": [
       "<tensorflow_estimator.python.estimator.tpu.tpu_estimator.TPUEstimator at 0x7f76b1591d50>"
      ]
     },
     "execution_count": 5,
     "metadata": {},
     "output_type": "execute_result"
    }
   ],
   "source": [
    "estimator.train(input_fn=train_input_fn, max_steps=TRAIN_STEPS)"
   ]
  }
 ],
 "metadata": {
  "kernelspec": {
   "display_name": "Python 3",
   "language": "python",
   "name": "python3"
  },
  "language_info": {
   "codemirror_mode": {
    "name": "ipython",
    "version": 3
   },
   "file_extension": ".py",
   "mimetype": "text/x-python",
   "name": "python",
   "nbconvert_exporter": "python",
   "pygments_lexer": "ipython3",
   "version": "3.8.3"
  }
 },
 "nbformat": 4,
 "nbformat_minor": 5
}
