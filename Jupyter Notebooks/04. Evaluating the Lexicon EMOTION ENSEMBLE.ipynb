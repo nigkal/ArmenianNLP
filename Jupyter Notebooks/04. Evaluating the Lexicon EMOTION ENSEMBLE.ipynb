{
 "cells": [
  {
   "cell_type": "code",
   "execution_count": 2,
   "metadata": {
    "executionInfo": {
     "elapsed": 2941,
     "status": "ok",
     "timestamp": 1641024280706,
     "user": {
      "displayName": "Nigol Kalayjian",
      "photoUrl": "https://lh3.googleusercontent.com/a/default-user=s64",
      "userId": "16698750872284887439"
     },
     "user_tz": -120
    },
    "id": "iQr04O5U0SkJ"
   },
   "outputs": [],
   "source": [
    "#import libraries\n",
    "import pandas as pd\n",
    "import numpy as np\n",
    "import pickle\n",
    "from sklearn.model_selection import StratifiedKFold\n",
    "from sklearn.svm import SVC\n",
    "from sklearn.linear_model import LogisticRegression\n",
    "from sklearn.model_selection import RandomizedSearchCV\n",
    "from sklearn.metrics import accuracy_score, f1_score, recall_score, precision_score\n",
    "from sklearn.ensemble import StackingClassifier\n",
    "from sklearn.metrics.cluster import contingency_matrix\n",
    "from keras.preprocessing.text import Tokenizer\n",
    "from keras.preprocessing.sequence import pad_sequences"
   ]
  },
  {
   "cell_type": "code",
   "execution_count": 3,
   "metadata": {
    "executionInfo": {
     "elapsed": 906,
     "status": "ok",
     "timestamp": 1641024281594,
     "user": {
      "displayName": "Nigol Kalayjian",
      "photoUrl": "https://lh3.googleusercontent.com/a/default-user=s64",
      "userId": "16698750872284887439"
     },
     "user_tz": -120
    },
    "id": "m-k5X1QY0SkO"
   },
   "outputs": [],
   "source": [
    "#open the data\n",
    "train = pd.read_csv('EmotionTrain.csv', encoding = 'utf-8')\n",
    "test = pd.read_csv('EmotionTest.csv', encoding = 'utf-8')"
   ]
  },
  {
   "cell_type": "code",
   "execution_count": 4,
   "metadata": {
    "executionInfo": {
     "elapsed": 463,
     "status": "ok",
     "timestamp": 1641024282050,
     "user": {
      "displayName": "Nigol Kalayjian",
      "photoUrl": "https://lh3.googleusercontent.com/a/default-user=s64",
      "userId": "16698750872284887439"
     },
     "user_tz": -120
    },
    "id": "9KtfDa5c0SkP"
   },
   "outputs": [],
   "source": [
    "#retrieve the input and target\n",
    "with open('EmotionTrainText.pickle', 'rb') as f:\n",
    "    X_train = pickle.load(f)\n",
    "y_train = train['Emotions']\n",
    "with open('EmotionTestText.pickle', 'rb') as f:\n",
    "    X_test = pickle.load(f)\n",
    "y_test = test['Emotions']"
   ]
  },
  {
   "cell_type": "code",
   "execution_count": 5,
   "metadata": {
    "executionInfo": {
     "elapsed": 450,
     "status": "ok",
     "timestamp": 1641024282856,
     "user": {
      "displayName": "Nigol Kalayjian",
      "photoUrl": "https://lh3.googleusercontent.com/a/default-user=s64",
      "userId": "16698750872284887439"
     },
     "user_tz": -120
    },
    "id": "6SWm9JOi0SkQ"
   },
   "outputs": [],
   "source": [
    "#open the lexicon\n",
    "with open('emotionScores.pickle', 'rb') as f:\n",
    "    scores = pickle.load(f)"
   ]
  },
  {
   "cell_type": "code",
   "execution_count": 6,
   "metadata": {
    "executionInfo": {
     "elapsed": 14,
     "status": "ok",
     "timestamp": 1641024282858,
     "user": {
      "displayName": "Nigol Kalayjian",
      "photoUrl": "https://lh3.googleusercontent.com/a/default-user=s64",
      "userId": "16698750872284887439"
     },
     "user_tz": -120
    },
    "id": "WqT7o8DC0SkQ"
   },
   "outputs": [],
   "source": [
    "#count maximum number of words in X_train\n",
    "count = []\n",
    "for i in X_train.index:\n",
    "    count.append(len(X_train[i]))\n",
    "maximum = max(count)"
   ]
  },
  {
   "cell_type": "code",
   "execution_count": 7,
   "metadata": {
    "executionInfo": {
     "elapsed": 11,
     "status": "ok",
     "timestamp": 1641024282859,
     "user": {
      "displayName": "Nigol Kalayjian",
      "photoUrl": "https://lh3.googleusercontent.com/a/default-user=s64",
      "userId": "16698750872284887439"
     },
     "user_tz": -120
    },
    "id": "S4cLh2E70SkR"
   },
   "outputs": [],
   "source": [
    "#function to transform the text into a vector of size 3: [Positive, Negative, Objective]\n",
    "def transform(x):\n",
    "    score = []\n",
    "    for i in x.index:\n",
    "        s = np.zeros((maximum, 5))\n",
    "        for j in range(len(x[i])):\n",
    "            if x[i][j] in scores['Armenian'].values:\n",
    "                ind = np.where(scores['Armenian'] == x[i][j])[0]\n",
    "                afraid, angry, happy, inspired, sad = 0, 0, 0, 0, 0\n",
    "                for k in range(len(ind)):\n",
    "                    afraid += scores['Afraid'][ind[k]]\n",
    "                    angry += scores['Angry'][ind[k]]\n",
    "                    happy += scores['Happy'][ind[k]]\n",
    "                    inspired += scores['Inspired'][ind[k]]\n",
    "                    sad += scores['Sad'][ind[k]]\n",
    "                s[j][0] = afraid / len(ind)\n",
    "                s[j][1] = angry / len(ind)\n",
    "                s[j][2] = happy / len(ind)\n",
    "                s[j][3] = inspired / len(ind)\n",
    "                s[j][4] = sad / len(ind)\n",
    "        score.append(s)\n",
    "    return score"
   ]
  },
  {
   "cell_type": "code",
   "execution_count": 8,
   "metadata": {
    "executionInfo": {
     "elapsed": 30086,
     "status": "ok",
     "timestamp": 1641024312936,
     "user": {
      "displayName": "Nigol Kalayjian",
      "photoUrl": "https://lh3.googleusercontent.com/a/default-user=s64",
      "userId": "16698750872284887439"
     },
     "user_tz": -120
    },
    "id": "omW20dXJ0SkR"
   },
   "outputs": [],
   "source": [
    "train_score = transform(X_train)\n",
    "test_score = transform(X_test)"
   ]
  },
  {
   "cell_type": "code",
   "execution_count": 9,
   "metadata": {
    "executionInfo": {
     "elapsed": 6560,
     "status": "ok",
     "timestamp": 1641024319485,
     "user": {
      "displayName": "Nigol Kalayjian",
      "photoUrl": "https://lh3.googleusercontent.com/a/default-user=s64",
      "userId": "16698750872284887439"
     },
     "user_tz": -120
    },
    "id": "VnOC9vsJ0SkS"
   },
   "outputs": [],
   "source": [
    "#open Armenian glove\n",
    "words = []\n",
    "embedding_index = {}\n",
    "\n",
    "with open(r'glove.hy.300.txt', 'r', encoding = 'utf8') as f:\n",
    "    for line in f:\n",
    "        values = line.split()\n",
    "        word = values[0]\n",
    "        words.append(word)\n",
    "        coefs = np.asarray(values[1:], 'float32')\n",
    "        embedding_index[word] = coefs"
   ]
  },
  {
   "cell_type": "code",
   "execution_count": 10,
   "metadata": {
    "executionInfo": {
     "elapsed": 4009,
     "status": "ok",
     "timestamp": 1641024323452,
     "user": {
      "displayName": "Nigol Kalayjian",
      "photoUrl": "https://lh3.googleusercontent.com/a/default-user=s64",
      "userId": "16698750872284887439"
     },
     "user_tz": -120
    },
    "id": "_zua4FrN0SkU"
   },
   "outputs": [],
   "source": [
    "t = Tokenizer()\n",
    "t.fit_on_texts(words)\n",
    "vocab_size = len(t.word_index) + 1\n",
    "encoded_docs1 = t.texts_to_sequences(X_train)\n",
    "encoded_X_train = pad_sequences(encoded_docs1, maxlen = maximum, padding = 'post')\n",
    "encoded_docs2 = t.texts_to_sequences(X_test)\n",
    "encoded_X_test = pad_sequences(encoded_docs2, maxlen = maximum, padding = 'post')"
   ]
  },
  {
   "cell_type": "code",
   "execution_count": 11,
   "metadata": {
    "executionInfo": {
     "elapsed": 1021,
     "status": "ok",
     "timestamp": 1641024324461,
     "user": {
      "displayName": "Nigol Kalayjian",
      "photoUrl": "https://lh3.googleusercontent.com/a/default-user=s64",
      "userId": "16698750872284887439"
     },
     "user_tz": -120
    },
    "id": "dfKQ3vJr0SkV"
   },
   "outputs": [],
   "source": [
    "embedding_matrix = np.zeros((vocab_size, 300))\n",
    "for word, i in t.word_index.items():\n",
    "    embedding_vector = embedding_index.get(word)\n",
    "    if embedding_vector is not None and len(embedding_vector) == 300:\n",
    "        embedding_matrix[i][:300] = embedding_vector"
   ]
  },
  {
   "cell_type": "code",
   "execution_count": 12,
   "metadata": {
    "executionInfo": {
     "elapsed": 889,
     "status": "ok",
     "timestamp": 1641024325344,
     "user": {
      "displayName": "Nigol Kalayjian",
      "photoUrl": "https://lh3.googleusercontent.com/a/default-user=s64",
      "userId": "16698750872284887439"
     },
     "user_tz": -120
    },
    "id": "LWYQWKio0SkV"
   },
   "outputs": [],
   "source": [
    "training_matrix_1 = np.zeros((len(X_train), maximum, 300))\n",
    "training_matrix_2 = np.zeros((len(X_train), maximum, 5))\n",
    "testing_matrix_1 = np.zeros((len(X_test), maximum, 300))\n",
    "testing_matrix_2 = np.zeros((len(X_test), maximum, 5))\n",
    "\n",
    "for i in range(len(X_train)):\n",
    "    for j in range(maximum):\n",
    "        training_matrix_1[i][j] = embedding_matrix[encoded_X_train[i][j]]\n",
    "    for k in range(maximum):\n",
    "        training_matrix_2[i][k] = train_score[i][k]\n",
    "train_1 = training_matrix_1.reshape(len(X_train), maximum * 300)\n",
    "train_2 = training_matrix_2.reshape(len(X_train), maximum * 5)\n",
    "train = np.concatenate((train_1, train_2), axis = 1)\n",
    "\n",
    "for i in range(len(X_test)):\n",
    "    for j in range(maximum):\n",
    "        testing_matrix_1[i][j] = embedding_matrix[encoded_X_test[i][j]]\n",
    "    for k in range(maximum):\n",
    "        testing_matrix_2[i][k] = test_score[i][k]\n",
    "test_1 = testing_matrix_1.reshape(len(X_test), maximum * 300)\n",
    "test_2 = testing_matrix_2.reshape(len(X_test), maximum * 5)\n",
    "test = np.concatenate((test_1, test_2), axis = 1)"
   ]
  },
  {
   "cell_type": "code",
   "execution_count": 13,
   "metadata": {
    "executionInfo": {
     "elapsed": 37,
     "status": "ok",
     "timestamp": 1641024325345,
     "user": {
      "displayName": "Nigol Kalayjian",
      "photoUrl": "https://lh3.googleusercontent.com/a/default-user=s64",
      "userId": "16698750872284887439"
     },
     "user_tz": -120
    },
    "id": "BiqCpBXE0SkW"
   },
   "outputs": [],
   "source": [
    "def search_embedding(clf, parameters):\n",
    "    classifier = RandomizedSearchCV(clf, parameters, cv = 5)\n",
    "    clf_search = classifier.fit(train[:, :maximum * 300], list(y_train))\n",
    "    return clf_search.best_estimator_"
   ]
  },
  {
   "cell_type": "code",
   "execution_count": 14,
   "metadata": {
    "executionInfo": {
     "elapsed": 36,
     "status": "ok",
     "timestamp": 1641024325347,
     "user": {
      "displayName": "Nigol Kalayjian",
      "photoUrl": "https://lh3.googleusercontent.com/a/default-user=s64",
      "userId": "16698750872284887439"
     },
     "user_tz": -120
    },
    "id": "xGF8I5Ex0SkW"
   },
   "outputs": [],
   "source": [
    "def search_emotion(clf, parameters):\n",
    "    classifier = RandomizedSearchCV(clf, parameters, cv = 5)\n",
    "    clf_search = classifier.fit(train[:, maximum * 300:], list(y_train))\n",
    "    return clf_search.best_estimator_"
   ]
  },
  {
   "cell_type": "code",
   "execution_count": 15,
   "metadata": {
    "executionInfo": {
     "elapsed": 34,
     "status": "ok",
     "timestamp": 1641024325348,
     "user": {
      "displayName": "Nigol Kalayjian",
      "photoUrl": "https://lh3.googleusercontent.com/a/default-user=s64",
      "userId": "16698750872284887439"
     },
     "user_tz": -120
    },
    "id": "S9V5DnjI0SkW"
   },
   "outputs": [],
   "source": [
    "training = pd.DataFrame(train, index = y_train.index)"
   ]
  },
  {
   "cell_type": "code",
   "execution_count": 16,
   "metadata": {
    "executionInfo": {
     "elapsed": 29,
     "status": "ok",
     "timestamp": 1641024325349,
     "user": {
      "displayName": "Nigol Kalayjian",
      "photoUrl": "https://lh3.googleusercontent.com/a/default-user=s64",
      "userId": "16698750872284887439"
     },
     "user_tz": -120
    },
    "id": "Irh60BzT0SkX"
   },
   "outputs": [],
   "source": [
    "def train_cv_embedding(clf):\n",
    "    kf = StratifiedKFold(10)\n",
    "    for m, _ in kf.split(training[range(maximum * 300)], y_train):\n",
    "        clf.fit(training[range(maximum * 300)].loc[training[range(maximum * 300)].index.intersection(m)], y_train.loc[y_train.index.intersection(m)])\n",
    "    y = clf.predict(test[:, range(maximum * 300)])\n",
    "    print(y)\n",
    "    print('Accuracy:', accuracy_score(y_test, y))\n",
    "    print('F-measure:', f1_score(y_test, y, average = None))\n",
    "    print('Recall:', recall_score(y_test, y, average = None))\n",
    "    print('Precision:', precision_score(y_test, y, average = None))\n",
    "    print('Contingency:', contingency_matrix(y_test, y))\n",
    "    return clf"
   ]
  },
  {
   "cell_type": "code",
   "execution_count": 17,
   "metadata": {
    "executionInfo": {
     "elapsed": 27,
     "status": "ok",
     "timestamp": 1641024325350,
     "user": {
      "displayName": "Nigol Kalayjian",
      "photoUrl": "https://lh3.googleusercontent.com/a/default-user=s64",
      "userId": "16698750872284887439"
     },
     "user_tz": -120
    },
    "id": "3SMOY0ws0SkX"
   },
   "outputs": [],
   "source": [
    "def train_cv_emotion(clf):\n",
    "    kf = StratifiedKFold(10)\n",
    "    for m, _ in kf.split(training[range(maximum * 300, maximum * 305)], y_train):\n",
    "        clf.fit(training[range(maximum * 300, maximum * 305)].loc[training[range(maximum * 300, maximum * 305)].index.intersection(m)], y_train.loc[y_train.index.intersection(m)])\n",
    "    y = clf.predict(test[:, range(maximum * 300, maximum * 305)])\n",
    "    print(y)\n",
    "    print('Accuracy:', accuracy_score(y_test, y))\n",
    "    print('F-measure:', f1_score(y_test, y, average = None))\n",
    "    print('Recall:', recall_score(y_test, y, average = None))\n",
    "    print('Precision:', precision_score(y_test, y, average = None))\n",
    "    print('Contingency:', contingency_matrix(y_test, y))\n",
    "    return clf"
   ]
  },
  {
   "cell_type": "code",
   "execution_count": 18,
   "metadata": {
    "executionInfo": {
     "elapsed": 27,
     "status": "ok",
     "timestamp": 1641024325351,
     "user": {
      "displayName": "Nigol Kalayjian",
      "photoUrl": "https://lh3.googleusercontent.com/a/default-user=s64",
      "userId": "16698750872284887439"
     },
     "user_tz": -120
    },
    "id": "sEr8PY-c0SkX"
   },
   "outputs": [],
   "source": [
    "sv_parameters = {'tol': [0.0001, 0.001, 0.01, 0.1, 1],\n",
    "                 'C': np.logspace(-4, 4, 20),\n",
    "                 'kernel': ['poly', 'rbf', 'sigmoid']}\n",
    "lr_parameters = {'penalty': ['l1', 'l2', 'elasticnet', 'none'],\n",
    "                 'C': np.logspace(-4, 4, 20),\n",
    "                 'tol': np.linspace(0, 10, 100)}\n",
    "sv_embedding = SVC()\n",
    "lr_emotion = LogisticRegression()"
   ]
  },
  {
   "cell_type": "code",
   "execution_count": 19,
   "metadata": {
    "colab": {
     "base_uri": "https://localhost:8080/"
    },
    "executionInfo": {
     "elapsed": 167799,
     "status": "ok",
     "timestamp": 1641028581020,
     "user": {
      "displayName": "Nigol Kalayjian",
      "photoUrl": "https://lh3.googleusercontent.com/a/default-user=s64",
      "userId": "16698750872284887439"
     },
     "user_tz": -120
    },
    "id": "oyz03fC-0n01",
    "outputId": "f285a19f-8a03-47c8-a334-9cabf4d6bd50"
   },
   "outputs": [
    {
     "name": "stdout",
     "output_type": "stream",
     "text": [
      "SVC(C=3792.690190732246, tol=0.0001)\n"
     ]
    }
   ],
   "source": [
    "sv_embedding_best = search_embedding(sv_embedding, sv_parameters)\n",
    "print(sv_embedding_best)"
   ]
  },
  {
   "cell_type": "code",
   "execution_count": 20,
   "metadata": {
    "colab": {
     "base_uri": "https://localhost:8080/"
    },
    "executionInfo": {
     "elapsed": 1671,
     "status": "ok",
     "timestamp": 1641028582690,
     "user": {
      "displayName": "Nigol Kalayjian",
      "photoUrl": "https://lh3.googleusercontent.com/a/default-user=s64",
      "userId": "16698750872284887439"
     },
     "user_tz": -120
    },
    "id": "TmomoSNM0ooC",
    "outputId": "9066ad98-287a-4fb2-eff2-2f69a843a8fb"
   },
   "outputs": [
    {
     "name": "stdout",
     "output_type": "stream",
     "text": [
      "LogisticRegression(C=4.281332398719396, tol=5.555555555555555)\n"
     ]
    },
    {
     "name": "stderr",
     "output_type": "stream",
     "text": [
      "/usr/local/lib/python3.7/dist-packages/sklearn/model_selection/_validation.py:372: FitFailedWarning: \n",
      "35 fits failed out of a total of 50.\n",
      "The score on these train-test partitions for these parameters will be set to nan.\n",
      "If these failures are not expected, you can try to debug them by setting error_score='raise'.\n",
      "\n",
      "Below are more details about the failures:\n",
      "--------------------------------------------------------------------------------\n",
      "15 fits failed with the following error:\n",
      "Traceback (most recent call last):\n",
      "  File \"/usr/local/lib/python3.7/dist-packages/sklearn/model_selection/_validation.py\", line 681, in _fit_and_score\n",
      "    estimator.fit(X_train, y_train, **fit_params)\n",
      "  File \"/usr/local/lib/python3.7/dist-packages/sklearn/linear_model/_logistic.py\", line 1461, in fit\n",
      "    solver = _check_solver(self.solver, self.penalty, self.dual)\n",
      "  File \"/usr/local/lib/python3.7/dist-packages/sklearn/linear_model/_logistic.py\", line 449, in _check_solver\n",
      "    % (solver, penalty)\n",
      "ValueError: Solver lbfgs supports only 'l2' or 'none' penalties, got l1 penalty.\n",
      "\n",
      "--------------------------------------------------------------------------------\n",
      "20 fits failed with the following error:\n",
      "Traceback (most recent call last):\n",
      "  File \"/usr/local/lib/python3.7/dist-packages/sklearn/model_selection/_validation.py\", line 681, in _fit_and_score\n",
      "    estimator.fit(X_train, y_train, **fit_params)\n",
      "  File \"/usr/local/lib/python3.7/dist-packages/sklearn/linear_model/_logistic.py\", line 1461, in fit\n",
      "    solver = _check_solver(self.solver, self.penalty, self.dual)\n",
      "  File \"/usr/local/lib/python3.7/dist-packages/sklearn/linear_model/_logistic.py\", line 449, in _check_solver\n",
      "    % (solver, penalty)\n",
      "ValueError: Solver lbfgs supports only 'l2' or 'none' penalties, got elasticnet penalty.\n",
      "\n",
      "  warnings.warn(some_fits_failed_message, FitFailedWarning)\n",
      "/usr/local/lib/python3.7/dist-packages/sklearn/model_selection/_search.py:972: UserWarning: One or more of the test scores are non-finite: [       nan 0.4551014         nan        nan 0.43997052        nan\n",
      " 0.45827154        nan        nan        nan]\n",
      "  category=UserWarning,\n"
     ]
    }
   ],
   "source": [
    "lr_emotion_best = search_emotion(lr_emotion, lr_parameters)\n",
    "print(lr_emotion_best)"
   ]
  },
  {
   "cell_type": "code",
   "execution_count": 21,
   "metadata": {
    "colab": {
     "base_uri": "https://localhost:8080/"
    },
    "executionInfo": {
     "elapsed": 197127,
     "status": "ok",
     "timestamp": 1641029832949,
     "user": {
      "displayName": "Nigol Kalayjian",
      "photoUrl": "https://lh3.googleusercontent.com/a/default-user=s64",
      "userId": "16698750872284887439"
     },
     "user_tz": -120
    },
    "id": "Lobmp1RV0SkZ",
    "outputId": "f2a7cf2c-cd01-47b9-92be-339afe5968a4"
   },
   "outputs": [
    {
     "name": "stdout",
     "output_type": "stream",
     "text": [
      "['joy' 'joy' 'anger' 'joy' 'joy' 'anger' 'anger' 'fear' 'anger' 'sadness'\n",
      " 'joy' 'joy' 'joy' 'joy' 'anger' 'joy' 'anger' 'joy' 'joy' 'anger' 'anger'\n",
      " 'anger' 'sadness' 'anger' 'joy' 'joy' 'anger' 'anger' 'anger' 'anger'\n",
      " 'anger' 'anger' 'joy' 'joy' 'anger' 'joy' 'sadness' 'anger' 'sadness'\n",
      " 'joy' 'sadness' 'joy' 'joy' 'anger' 'joy' 'joy' 'anger' 'joy' 'joy' 'joy'\n",
      " 'anger' 'joy' 'fear' 'joy' 'surprise' 'joy' 'joy' 'joy' 'joy' 'joy' 'joy'\n",
      " 'joy' 'anger' 'anger' 'anger' 'joy' 'joy' 'joy' 'anger' 'joy' 'joy' 'joy'\n",
      " 'joy' 'anger' 'joy' 'anger' 'joy' 'anger' 'anger' 'anger' 'anger' 'joy'\n",
      " 'joy' 'anger' 'fear' 'anger' 'joy' 'joy' 'anger' 'anger' 'joy' 'joy'\n",
      " 'joy' 'joy' 'joy' 'anger' 'joy' 'joy' 'anger' 'fear' 'joy' 'anger' 'joy'\n",
      " 'joy' 'joy' 'joy' 'anger' 'anger' 'joy' 'anger' 'anger' 'joy' 'joy' 'joy'\n",
      " 'joy' 'anger' 'sadness' 'joy' 'anger' 'anger' 'joy' 'sadness' 'joy' 'joy'\n",
      " 'anger' 'joy' 'sadness' 'joy' 'joy' 'joy' 'joy' 'joy' 'anger' 'anger'\n",
      " 'anger' 'fear' 'joy' 'anger' 'anger' 'joy' 'anger' 'anger' 'joy' 'joy'\n",
      " 'joy' 'joy' 'anger' 'anger' 'joy' 'anger' 'joy' 'anger' 'joy' 'anger'\n",
      " 'joy' 'joy' 'anger' 'joy' 'joy' 'joy' 'joy' 'joy' 'joy' 'joy' 'anger'\n",
      " 'fear' 'joy' 'joy' 'sadness' 'joy' 'anger' 'joy' 'joy' 'joy' 'anger'\n",
      " 'anger' 'anger' 'anger' 'joy' 'anger' 'anger' 'joy' 'joy' 'sadness'\n",
      " 'anger' 'joy' 'joy' 'anger' 'anger' 'anger' 'joy' 'joy' 'sadness' 'joy'\n",
      " 'anger' 'anger' 'joy' 'joy' 'joy' 'anger' 'sadness' 'joy' 'joy' 'anger'\n",
      " 'sadness' 'joy' 'anger' 'joy' 'anger' 'joy' 'anger' 'anger' 'joy' 'joy'\n",
      " 'fear' 'anger' 'anger' 'anger' 'anger' 'joy' 'joy' 'joy' 'joy' 'joy'\n",
      " 'anger' 'joy' 'joy' 'anger' 'anger' 'anger' 'joy' 'joy' 'joy' 'joy'\n",
      " 'sadness' 'joy' 'anger' 'joy' 'joy' 'sadness' 'joy' 'anger' 'joy' 'joy'\n",
      " 'anger' 'joy' 'anger' 'joy' 'joy' 'joy' 'joy' 'joy' 'anger' 'anger' 'joy'\n",
      " 'joy' 'joy' 'joy' 'anger' 'anger' 'joy' 'joy' 'joy' 'joy' 'joy' 'anger'\n",
      " 'joy' 'fear' 'anger' 'joy' 'joy' 'anger' 'anger' 'joy' 'fear' 'joy' 'joy'\n",
      " 'fear' 'joy' 'joy' 'joy' 'joy' 'anger' 'joy' 'anger' 'joy' 'anger'\n",
      " 'anger' 'sadness' 'joy' 'joy' 'anger' 'joy' 'anger' 'joy' 'joy' 'joy'\n",
      " 'joy' 'anger' 'joy' 'anger' 'joy' 'anger' 'joy' 'anger' 'joy' 'anger'\n",
      " 'anger' 'anger' 'joy' 'anger' 'anger' 'joy' 'joy' 'joy' 'joy' 'joy' 'joy'\n",
      " 'joy' 'joy' 'joy' 'joy' 'joy' 'joy' 'sadness' 'joy' 'joy' 'sadness'\n",
      " 'sadness' 'joy' 'joy' 'joy' 'anger' 'joy' 'anger' 'anger' 'joy' 'joy'\n",
      " 'joy' 'joy' 'joy' 'sadness' 'anger' 'anger' 'anger' 'anger' 'fear' 'joy'\n",
      " 'sadness' 'joy' 'anger' 'joy' 'anger' 'joy' 'joy' 'sadness' 'anger' 'joy'\n",
      " 'joy' 'joy' 'anger' 'joy' 'anger' 'joy' 'joy' 'joy' 'anger' 'joy' 'joy'\n",
      " 'joy' 'joy' 'joy' 'joy' 'sadness' 'joy' 'joy' 'joy' 'joy' 'anger' 'joy'\n",
      " 'joy' 'joy' 'anger' 'anger' 'joy' 'joy' 'anger' 'joy' 'joy' 'joy' 'anger'\n",
      " 'joy' 'anger' 'anger' 'joy' 'fear' 'sadness' 'joy' 'anger' 'joy' 'joy'\n",
      " 'anger' 'joy' 'joy' 'joy' 'joy' 'sadness' 'joy' 'joy' 'anger' 'joy' 'joy'\n",
      " 'anger' 'joy' 'anger' 'anger' 'joy' 'joy' 'sadness' 'anger' 'anger' 'joy'\n",
      " 'sadness' 'sadness' 'anger' 'sadness' 'anger' 'joy' 'fear' 'anger' 'joy'\n",
      " 'joy' 'joy' 'joy' 'anger' 'joy' 'joy' 'joy' 'anger' 'joy' 'anger' 'anger'\n",
      " 'joy' 'anger' 'anger' 'joy' 'joy' 'sadness' 'joy' 'joy' 'sadness' 'joy'\n",
      " 'joy' 'joy' 'fear' 'joy' 'joy' 'sadness' 'joy' 'anger' 'joy' 'joy'\n",
      " 'anger' 'joy' 'anger' 'anger' 'anger' 'joy' 'joy' 'sadness' 'anger'\n",
      " 'sadness' 'joy' 'anger' 'joy' 'joy' 'anger' 'anger' 'joy' 'sadness' 'joy'\n",
      " 'joy' 'sadness' 'anger' 'joy' 'joy' 'joy' 'sadness' 'joy' 'joy' 'joy'\n",
      " 'joy' 'fear' 'anger' 'joy' 'sadness' 'sadness' 'joy' 'fear' 'anger'\n",
      " 'anger' 'joy' 'anger' 'anger' 'joy' 'anger' 'sadness' 'joy' 'anger' 'joy'\n",
      " 'joy' 'joy' 'surprise' 'anger' 'joy' 'joy' 'joy' 'joy' 'anger' 'joy'\n",
      " 'fear' 'joy' 'anger' 'joy' 'anger' 'joy' 'joy' 'joy' 'joy' 'anger'\n",
      " 'sadness' 'joy' 'anger' 'joy' 'joy' 'joy' 'anger' 'joy' 'joy' 'joy' 'joy'\n",
      " 'anger' 'anger' 'joy' 'joy' 'joy' 'fear' 'anger' 'anger' 'joy' 'anger'\n",
      " 'joy' 'joy' 'joy']\n",
      "Accuracy: 0.5902527075812274\n",
      "F-measure: [0.50479233 0.2295082  0.73146623 0.30252101 0.25      ]\n",
      "Recall: [0.59398496 0.1627907  0.75510204 0.23076923 0.16666667]\n",
      "Precision: [0.43888889 0.38888889 0.70926518 0.43902439 0.5       ]\n",
      "Contingency: [[ 79   4  41   8   1]\n",
      " [ 23   7  11   2   0]\n",
      " [ 56   3 222  13   0]\n",
      " [ 19   4  37  18   0]\n",
      " [  3   0   2   0   1]]\n"
     ]
    }
   ],
   "source": [
    "sv_embedding_trained = train_cv_embedding(sv_embedding_best)"
   ]
  },
  {
   "cell_type": "code",
   "execution_count": 22,
   "metadata": {
    "colab": {
     "base_uri": "https://localhost:8080/"
    },
    "executionInfo": {
     "elapsed": 1644,
     "status": "ok",
     "timestamp": 1641029834592,
     "user": {
      "displayName": "Nigol Kalayjian",
      "photoUrl": "https://lh3.googleusercontent.com/a/default-user=s64",
      "userId": "16698750872284887439"
     },
     "user_tz": -120
    },
    "id": "j3FKdGEO0Ska",
    "outputId": "cf3049b7-1bd2-42bf-fd3e-318b648b81ef"
   },
   "outputs": [
    {
     "name": "stdout",
     "output_type": "stream",
     "text": [
      "['anger' 'joy' 'joy' 'joy' 'joy' 'joy' 'joy' 'joy' 'joy' 'joy' 'joy' 'joy'\n",
      " 'joy' 'anger' 'joy' 'joy' 'anger' 'joy' 'joy' 'anger' 'joy' 'joy' 'joy'\n",
      " 'joy' 'joy' 'joy' 'joy' 'anger' 'joy' 'joy' 'joy' 'joy' 'joy' 'joy' 'joy'\n",
      " 'anger' 'anger' 'anger' 'joy' 'joy' 'joy' 'joy' 'joy' 'joy' 'joy' 'joy'\n",
      " 'anger' 'joy' 'joy' 'joy' 'joy' 'joy' 'anger' 'joy' 'joy' 'joy' 'joy'\n",
      " 'joy' 'joy' 'joy' 'anger' 'joy' 'joy' 'joy' 'joy' 'joy' 'joy' 'joy' 'joy'\n",
      " 'joy' 'anger' 'joy' 'anger' 'joy' 'joy' 'joy' 'joy' 'joy' 'joy' 'joy'\n",
      " 'joy' 'joy' 'joy' 'anger' 'joy' 'anger' 'joy' 'joy' 'joy' 'joy' 'joy'\n",
      " 'joy' 'anger' 'joy' 'joy' 'joy' 'joy' 'joy' 'joy' 'joy' 'joy' 'joy' 'joy'\n",
      " 'joy' 'joy' 'joy' 'anger' 'joy' 'joy' 'joy' 'anger' 'joy' 'joy' 'joy'\n",
      " 'joy' 'anger' 'joy' 'joy' 'joy' 'joy' 'joy' 'joy' 'joy' 'joy' 'anger'\n",
      " 'joy' 'joy' 'joy' 'joy' 'joy' 'anger' 'joy' 'joy' 'joy' 'anger' 'joy'\n",
      " 'joy' 'joy' 'joy' 'joy' 'joy' 'joy' 'joy' 'joy' 'anger' 'joy' 'joy' 'joy'\n",
      " 'joy' 'joy' 'joy' 'joy' 'joy' 'joy' 'joy' 'joy' 'joy' 'joy' 'joy' 'joy'\n",
      " 'joy' 'joy' 'joy' 'joy' 'joy' 'anger' 'joy' 'anger' 'joy' 'joy' 'joy'\n",
      " 'joy' 'joy' 'joy' 'joy' 'joy' 'anger' 'joy' 'joy' 'joy' 'joy' 'joy'\n",
      " 'anger' 'joy' 'joy' 'joy' 'joy' 'joy' 'joy' 'joy' 'joy' 'joy' 'joy' 'joy'\n",
      " 'joy' 'joy' 'joy' 'joy' 'joy' 'joy' 'joy' 'joy' 'joy' 'joy' 'joy' 'joy'\n",
      " 'joy' 'joy' 'joy' 'joy' 'anger' 'joy' 'joy' 'joy' 'joy' 'joy' 'anger'\n",
      " 'anger' 'joy' 'joy' 'joy' 'joy' 'joy' 'joy' 'joy' 'joy' 'joy' 'joy' 'joy'\n",
      " 'joy' 'joy' 'joy' 'joy' 'joy' 'joy' 'joy' 'joy' 'joy' 'joy' 'joy' 'joy'\n",
      " 'joy' 'joy' 'joy' 'joy' 'joy' 'joy' 'joy' 'joy' 'joy' 'joy' 'anger' 'joy'\n",
      " 'joy' 'joy' 'joy' 'joy' 'anger' 'joy' 'anger' 'joy' 'joy' 'joy' 'joy'\n",
      " 'joy' 'joy' 'joy' 'joy' 'joy' 'joy' 'joy' 'joy' 'joy' 'joy' 'anger' 'joy'\n",
      " 'joy' 'joy' 'joy' 'joy' 'joy' 'joy' 'joy' 'joy' 'anger' 'joy' 'joy'\n",
      " 'anger' 'anger' 'joy' 'joy' 'joy' 'anger' 'joy' 'joy' 'joy' 'joy' 'joy'\n",
      " 'joy' 'joy' 'joy' 'joy' 'joy' 'joy' 'joy' 'joy' 'anger' 'joy' 'anger'\n",
      " 'joy' 'joy' 'joy' 'joy' 'joy' 'joy' 'joy' 'joy' 'joy' 'joy' 'joy' 'anger'\n",
      " 'joy' 'joy' 'joy' 'anger' 'joy' 'joy' 'joy' 'joy' 'joy' 'anger' 'joy'\n",
      " 'joy' 'joy' 'joy' 'joy' 'joy' 'joy' 'joy' 'joy' 'joy' 'joy' 'joy' 'joy'\n",
      " 'anger' 'joy' 'joy' 'joy' 'joy' 'joy' 'joy' 'joy' 'anger' 'joy' 'joy'\n",
      " 'joy' 'joy' 'joy' 'anger' 'joy' 'joy' 'joy' 'joy' 'joy' 'joy' 'joy' 'joy'\n",
      " 'joy' 'anger' 'joy' 'joy' 'joy' 'joy' 'joy' 'joy' 'joy' 'joy' 'joy'\n",
      " 'anger' 'joy' 'joy' 'joy' 'joy' 'joy' 'joy' 'joy' 'joy' 'joy' 'joy' 'joy'\n",
      " 'joy' 'joy' 'joy' 'joy' 'joy' 'joy' 'joy' 'joy' 'joy' 'anger' 'joy' 'joy'\n",
      " 'joy' 'joy' 'joy' 'joy' 'joy' 'joy' 'joy' 'joy' 'joy' 'joy' 'joy' 'joy'\n",
      " 'joy' 'joy' 'joy' 'joy' 'joy' 'joy' 'joy' 'joy' 'joy' 'joy' 'joy' 'joy'\n",
      " 'joy' 'joy' 'joy' 'joy' 'joy' 'joy' 'joy' 'joy' 'joy' 'joy' 'joy' 'joy'\n",
      " 'joy' 'joy' 'joy' 'joy' 'joy' 'joy' 'joy' 'joy' 'joy' 'joy' 'anger' 'joy'\n",
      " 'joy' 'joy' 'joy' 'joy' 'joy' 'joy' 'joy' 'joy' 'joy' 'joy' 'joy' 'joy'\n",
      " 'anger' 'joy' 'joy' 'anger' 'joy' 'joy' 'joy' 'joy' 'joy' 'joy' 'joy'\n",
      " 'joy' 'joy' 'joy' 'joy' 'joy' 'joy' 'joy' 'joy' 'joy' 'joy' 'joy' 'joy'\n",
      " 'joy' 'joy' 'joy' 'joy' 'joy' 'joy' 'joy' 'joy' 'joy' 'joy' 'joy' 'anger'\n",
      " 'joy' 'joy' 'anger' 'joy' 'joy' 'joy' 'joy' 'joy' 'joy' 'joy' 'joy'\n",
      " 'anger' 'joy' 'anger' 'joy' 'joy' 'joy' 'joy' 'joy' 'joy' 'joy' 'joy'\n",
      " 'joy' 'anger' 'joy' 'joy' 'joy' 'joy' 'joy' 'joy' 'joy' 'joy' 'joy' 'joy'\n",
      " 'joy' 'anger' 'joy' 'joy' 'joy' 'joy' 'joy' 'joy' 'joy' 'joy' 'joy' 'joy'\n",
      " 'joy' 'joy' 'joy' 'joy' 'joy' 'joy' 'joy' 'joy' 'joy' 'joy' 'anger']\n",
      "Accuracy: 0.5216606498194946\n",
      "F-measure: [0.19791667 0.         0.68441065 0.         0.        ]\n",
      "Recall: [0.14285714 0.         0.91836735 0.         0.        ]\n",
      "Precision: [0.3220339  0.         0.54545455 0.         0.        ]\n",
      "Contingency: [[ 19 114]\n",
      " [  8  35]\n",
      " [ 24 270]\n",
      " [  8  70]\n",
      " [  0   6]]\n"
     ]
    },
    {
     "name": "stderr",
     "output_type": "stream",
     "text": [
      "/usr/local/lib/python3.7/dist-packages/sklearn/metrics/_classification.py:1308: UndefinedMetricWarning: Precision is ill-defined and being set to 0.0 in labels with no predicted samples. Use `zero_division` parameter to control this behavior.\n",
      "  _warn_prf(average, modifier, msg_start, len(result))\n"
     ]
    }
   ],
   "source": [
    "lr_emotion_trained = train_cv_emotion(lr_emotion_best)"
   ]
  },
  {
   "cell_type": "code",
   "execution_count": 23,
   "metadata": {
    "colab": {
     "base_uri": "https://localhost:8080/"
    },
    "executionInfo": {
     "elapsed": 827470,
     "status": "ok",
     "timestamp": 1641030662060,
     "user": {
      "displayName": "Nigol Kalayjian",
      "photoUrl": "https://lh3.googleusercontent.com/a/default-user=s64",
      "userId": "16698750872284887439"
     },
     "user_tz": -120
    },
    "id": "OowH6XPG0Ska",
    "outputId": "ea19ede4-7b88-492e-c2c1-d5390b9fbd28"
   },
   "outputs": [
    {
     "name": "stderr",
     "output_type": "stream",
     "text": [
      "/usr/local/lib/python3.7/dist-packages/sklearn/linear_model/_logistic.py:818: ConvergenceWarning: lbfgs failed to converge (status=1):\n",
      "STOP: TOTAL NO. of ITERATIONS REACHED LIMIT.\n",
      "\n",
      "Increase the number of iterations (max_iter) or scale the data as shown in:\n",
      "    https://scikit-learn.org/stable/modules/preprocessing.html\n",
      "Please also refer to the documentation for alternative solver options:\n",
      "    https://scikit-learn.org/stable/modules/linear_model.html#logistic-regression\n",
      "  extra_warning_msg=_LOGISTIC_SOLVER_CONVERGENCE_MSG,\n"
     ]
    }
   ],
   "source": [
    "estimators = [('sv', sv_embedding_trained), ('lr', lr_emotion_trained)]\n",
    "final = StackingClassifier(estimators)\n",
    "final.fit(training, y_train)\n",
    "y_pred = final.predict(test)"
   ]
  },
  {
   "cell_type": "code",
   "execution_count": 24,
   "metadata": {
    "colab": {
     "base_uri": "https://localhost:8080/"
    },
    "executionInfo": {
     "elapsed": 13,
     "status": "ok",
     "timestamp": 1641030662074,
     "user": {
      "displayName": "Nigol Kalayjian",
      "photoUrl": "https://lh3.googleusercontent.com/a/default-user=s64",
      "userId": "16698750872284887439"
     },
     "user_tz": -120
    },
    "id": "uVb340k30Skb",
    "outputId": "26890592-fee1-4464-ce70-d558f84bd4d1"
   },
   "outputs": [
    {
     "name": "stderr",
     "output_type": "stream",
     "text": [
      "/usr/local/lib/python3.7/dist-packages/sklearn/metrics/_classification.py:1308: UndefinedMetricWarning: Precision is ill-defined and being set to 0.0 in labels with no predicted samples. Use `zero_division` parameter to control this behavior.\n",
      "  _warn_prf(average, modifier, msg_start, len(result))\n"
     ]
    }
   ],
   "source": [
    "acc = accuracy_score(y_test, y_pred)\n",
    "f1 = f1_score(y_test, y_pred, average = None)\n",
    "rec = recall_score(y_test, y_pred, average = None)\n",
    "pre = precision_score(y_test, y_pred, average = None)\n",
    "cont = contingency_matrix(y_test, y_pred)"
   ]
  },
  {
   "cell_type": "code",
   "execution_count": 25,
   "metadata": {
    "colab": {
     "base_uri": "https://localhost:8080/"
    },
    "executionInfo": {
     "elapsed": 9,
     "status": "ok",
     "timestamp": 1641030662075,
     "user": {
      "displayName": "Nigol Kalayjian",
      "photoUrl": "https://lh3.googleusercontent.com/a/default-user=s64",
      "userId": "16698750872284887439"
     },
     "user_tz": -120
    },
    "id": "X5jrKGqA0Skc",
    "outputId": "dadef678-940d-4d92-d0e7-bf61cead9436"
   },
   "outputs": [
    {
     "name": "stdout",
     "output_type": "stream",
     "text": [
      "Accuracy: 0.6353790613718412\n",
      "F-measure: [0.56291391 0.24242424 0.7819063  0.29565217 0.        ]\n",
      "Recall: [0.63909774 0.18604651 0.82312925 0.21794872 0.        ]\n",
      "Precision: [0.50295858 0.34782609 0.74461538 0.45945946 0.        ]\n",
      "Contingency: [[ 85   5  36   7]\n",
      " [ 23   8   7   5]\n",
      " [ 40   4 242   8]\n",
      " [ 19   6  36  17]\n",
      " [  2   0   4   0]]\n"
     ]
    }
   ],
   "source": [
    "print('Accuracy:', acc)\n",
    "print('F-measure:', f1)\n",
    "print('Recall:', rec)\n",
    "print('Precision:', pre)\n",
    "print('Contingency:', cont)"
   ]
  },
  {
   "cell_type": "code",
   "execution_count": 26,
   "metadata": {
    "colab": {
     "base_uri": "https://localhost:8080/"
    },
    "executionInfo": {
     "elapsed": 7,
     "status": "ok",
     "timestamp": 1641030662075,
     "user": {
      "displayName": "Nigol Kalayjian",
      "photoUrl": "https://lh3.googleusercontent.com/a/default-user=s64",
      "userId": "16698750872284887439"
     },
     "user_tz": -120
    },
    "id": "YCvTOxUt0Skc",
    "outputId": "0340f358-eaf1-44ec-97b0-d1e8e146a019"
   },
   "outputs": [
    {
     "data": {
      "text/plain": [
       "array(['anger', 'joy', 'anger', 'joy', 'fear', 'anger', 'anger', 'anger',\n",
       "       'anger', 'sadness', 'sadness', 'sadness', 'joy', 'joy', 'anger',\n",
       "       'joy', 'sadness', 'joy', 'joy', 'anger', 'anger', 'sadness', 'joy',\n",
       "       'sadness', 'anger', 'joy', 'sadness', 'anger', 'joy', 'sadness',\n",
       "       'joy', 'fear', 'joy', 'joy', 'joy', 'sadness', 'joy', 'joy',\n",
       "       'sadness', 'joy', 'anger', 'joy', 'joy', 'anger', 'sadness', 'joy',\n",
       "       'anger', 'sadness', 'joy', 'joy', 'anger', 'joy', 'fear', 'joy',\n",
       "       'surprise', 'joy', 'joy', 'anger', 'joy', 'joy', 'joy', 'fear',\n",
       "       'joy', 'joy', 'surprise', 'joy', 'joy', 'joy', 'fear', 'joy',\n",
       "       'fear', 'joy', 'sadness', 'joy', 'anger', 'anger', 'joy', 'anger',\n",
       "       'joy', 'joy', 'fear', 'joy', 'surprise', 'anger', 'anger', 'anger',\n",
       "       'joy', 'joy', 'surprise', 'joy', 'joy', 'joy', 'joy', 'joy', 'joy',\n",
       "       'fear', 'joy', 'sadness', 'joy', 'joy', 'joy', 'anger', 'joy',\n",
       "       'anger', 'joy', 'fear', 'anger', 'fear', 'anger', 'anger', 'anger',\n",
       "       'joy', 'joy', 'joy', 'joy', 'anger', 'joy', 'joy', 'joy', 'anger',\n",
       "       'joy', 'sadness', 'joy', 'joy', 'anger', 'joy', 'anger', 'joy',\n",
       "       'joy', 'anger', 'anger', 'joy', 'joy', 'joy', 'sadness', 'sadness',\n",
       "       'joy', 'anger', 'joy', 'sadness', 'joy', 'anger', 'joy', 'sadness',\n",
       "       'fear', 'joy', 'anger', 'anger', 'joy', 'joy', 'joy', 'joy',\n",
       "       'sadness', 'joy', 'sadness', 'joy', 'anger', 'joy', 'joy',\n",
       "       'sadness', 'joy', 'joy', 'joy', 'joy', 'joy', 'joy', 'sadness',\n",
       "       'joy', 'joy', 'joy', 'joy', 'joy', 'anger', 'joy', 'joy', 'anger',\n",
       "       'anger', 'anger', 'joy', 'anger', 'anger', 'anger', 'joy',\n",
       "       'sadness', 'sadness', 'anger', 'joy', 'anger', 'joy', 'anger',\n",
       "       'joy', 'anger', 'joy', 'joy', 'joy', 'fear', 'joy', 'joy', 'joy',\n",
       "       'anger', 'sadness', 'joy', 'sadness', 'joy', 'anger', 'joy', 'joy',\n",
       "       'joy', 'anger', 'anger', 'anger', 'fear', 'anger', 'joy', 'fear',\n",
       "       'joy', 'sadness', 'fear', 'anger', 'joy', 'joy', 'sadness',\n",
       "       'anger', 'sadness', 'fear', 'joy', 'joy', 'sadness', 'anger',\n",
       "       'fear', 'joy', 'joy', 'joy', 'joy', 'joy', 'joy', 'sadness', 'joy',\n",
       "       'joy', 'joy', 'sadness', 'anger', 'joy', 'joy', 'anger', 'joy',\n",
       "       'anger', 'joy', 'joy', 'anger', 'joy', 'joy', 'fear', 'joy', 'joy',\n",
       "       'joy', 'anger', 'joy', 'sadness', 'fear', 'fear', 'anger', 'anger',\n",
       "       'joy', 'joy', 'fear', 'joy', 'fear', 'joy', 'joy', 'joy', 'anger',\n",
       "       'anger', 'joy', 'fear', 'joy', 'joy', 'sadness', 'joy', 'sadness',\n",
       "       'joy', 'anger', 'joy', 'joy', 'sadness', 'joy', 'joy', 'fear',\n",
       "       'joy', 'anger', 'anger', 'joy', 'joy', 'anger', 'sadness', 'fear',\n",
       "       'anger', 'joy', 'anger', 'joy', 'joy', 'joy', 'joy', 'joy', 'fear',\n",
       "       'joy', 'anger', 'joy', 'joy', 'joy', 'anger', 'anger', 'sadness',\n",
       "       'joy', 'joy', 'joy', 'joy', 'joy', 'joy', 'joy', 'joy', 'sadness',\n",
       "       'surprise', 'fear', 'anger', 'joy', 'joy', 'sadness', 'sadness',\n",
       "       'joy', 'joy', 'joy', 'joy', 'joy', 'anger', 'joy', 'joy', 'fear',\n",
       "       'sadness', 'joy', 'joy', 'sadness', 'anger', 'sadness', 'anger',\n",
       "       'joy', 'sadness', 'anger', 'sadness', 'anger', 'anger', 'joy',\n",
       "       'joy', 'joy', 'anger', 'sadness', 'joy', 'sadness', 'joy', 'joy',\n",
       "       'fear', 'joy', 'anger', 'sadness', 'anger', 'joy', 'joy', 'joy',\n",
       "       'joy', 'joy', 'joy', 'joy', 'joy', 'sadness', 'joy', 'joy', 'joy',\n",
       "       'joy', 'anger', 'joy', 'joy', 'joy', 'anger', 'joy', 'joy', 'joy',\n",
       "       'joy', 'joy', 'joy', 'anger', 'joy', 'joy', 'joy', 'anger',\n",
       "       'anger', 'joy', 'joy', 'joy', 'joy', 'sadness', 'joy', 'anger',\n",
       "       'joy', 'sadness', 'joy', 'joy', 'joy', 'joy', 'joy', 'sadness',\n",
       "       'anger', 'joy', 'anger', 'joy', 'joy', 'joy', 'joy', 'anger',\n",
       "       'fear', 'joy', 'anger', 'joy', 'sadness', 'sadness', 'anger',\n",
       "       'anger', 'anger', 'joy', 'fear', 'anger', 'joy', 'sadness', 'fear',\n",
       "       'joy', 'sadness', 'joy', 'joy', 'joy', 'anger', 'anger', 'fear',\n",
       "       'joy', 'joy', 'anger', 'fear', 'sadness', 'joy', 'sadness', 'joy',\n",
       "       'anger', 'anger', 'joy', 'sadness', 'anger', 'fear', 'joy', 'joy',\n",
       "       'sadness', 'joy', 'anger', 'anger', 'joy', 'fear', 'anger', 'fear',\n",
       "       'joy', 'sadness', 'joy', 'sadness', 'joy', 'anger', 'sadness',\n",
       "       'joy', 'sadness', 'anger', 'joy', 'sadness', 'anger', 'joy',\n",
       "       'fear', 'anger', 'joy', 'sadness', 'anger', 'joy', 'joy', 'joy',\n",
       "       'anger', 'joy', 'joy', 'joy', 'joy', 'fear', 'surprise', 'joy',\n",
       "       'sadness', 'joy', 'sadness', 'anger', 'anger', 'fear', 'sadness',\n",
       "       'anger', 'joy', 'joy', 'anger', 'joy', 'anger', 'anger', 'joy',\n",
       "       'joy', 'joy', 'anger', 'fear', 'joy', 'sadness', 'joy', 'joy',\n",
       "       'anger', 'joy', 'sadness', 'sadness', 'anger', 'joy', 'anger',\n",
       "       'fear', 'joy', 'sadness', 'joy', 'fear', 'anger', 'joy', 'joy',\n",
       "       'joy', 'joy', 'joy', 'sadness', 'anger', 'joy', 'joy', 'sadness',\n",
       "       'anger', 'joy', 'sadness', 'joy', 'joy', 'anger', 'anger', 'anger',\n",
       "       'joy', 'joy', 'anger', 'joy', 'joy'], dtype=object)"
      ]
     },
     "execution_count": 26,
     "metadata": {},
     "output_type": "execute_result"
    }
   ],
   "source": [
    "y_test.values"
   ]
  },
  {
   "cell_type": "code",
   "execution_count": 27,
   "metadata": {
    "colab": {
     "base_uri": "https://localhost:8080/"
    },
    "executionInfo": {
     "elapsed": 6,
     "status": "ok",
     "timestamp": 1641030662076,
     "user": {
      "displayName": "Nigol Kalayjian",
      "photoUrl": "https://lh3.googleusercontent.com/a/default-user=s64",
      "userId": "16698750872284887439"
     },
     "user_tz": -120
    },
    "id": "SsjHkoNo0Skc",
    "outputId": "0725e879-c113-4122-eb7d-559ee7388e04"
   },
   "outputs": [
    {
     "data": {
      "text/plain": [
       "array(['joy', 'joy', 'anger', 'joy', 'anger', 'anger', 'anger', 'fear',\n",
       "       'anger', 'sadness', 'joy', 'joy', 'joy', 'joy', 'anger', 'joy',\n",
       "       'anger', 'joy', 'joy', 'anger', 'anger', 'anger', 'joy', 'anger',\n",
       "       'joy', 'joy', 'anger', 'fear', 'anger', 'sadness', 'anger',\n",
       "       'sadness', 'joy', 'joy', 'anger', 'anger', 'sadness', 'anger',\n",
       "       'joy', 'joy', 'sadness', 'joy', 'joy', 'anger', 'joy', 'joy',\n",
       "       'anger', 'joy', 'joy', 'joy', 'anger', 'joy', 'fear', 'joy', 'joy',\n",
       "       'joy', 'joy', 'joy', 'joy', 'joy', 'joy', 'anger', 'joy', 'joy',\n",
       "       'anger', 'joy', 'joy', 'joy', 'anger', 'joy', 'joy', 'joy', 'joy',\n",
       "       'anger', 'anger', 'anger', 'joy', 'anger', 'joy', 'anger', 'anger',\n",
       "       'joy', 'joy', 'anger', 'joy', 'anger', 'joy', 'anger', 'joy',\n",
       "       'joy', 'joy', 'joy', 'joy', 'joy', 'joy', 'fear', 'joy', 'joy',\n",
       "       'anger', 'joy', 'joy', 'anger', 'joy', 'anger', 'joy', 'joy',\n",
       "       'anger', 'anger', 'anger', 'sadness', 'anger', 'joy', 'joy', 'joy',\n",
       "       'joy', 'anger', 'joy', 'joy', 'anger', 'anger', 'joy', 'sadness',\n",
       "       'joy', 'joy', 'anger', 'joy', 'sadness', 'joy', 'joy', 'anger',\n",
       "       'joy', 'joy', 'fear', 'anger', 'fear', 'fear', 'joy', 'anger',\n",
       "       'anger', 'joy', 'joy', 'joy', 'joy', 'joy', 'joy', 'joy', 'anger',\n",
       "       'anger', 'joy', 'anger', 'joy', 'joy', 'joy', 'joy', 'joy', 'joy',\n",
       "       'anger', 'joy', 'joy', 'joy', 'joy', 'joy', 'joy', 'joy', 'anger',\n",
       "       'joy', 'fear', 'joy', 'joy', 'joy', 'anger', 'joy', 'joy', 'joy',\n",
       "       'anger', 'anger', 'anger', 'anger', 'joy', 'anger', 'anger', 'joy',\n",
       "       'joy', 'sadness', 'joy', 'anger', 'joy', 'anger', 'joy', 'anger',\n",
       "       'joy', 'fear', 'joy', 'joy', 'anger', 'anger', 'joy', 'joy', 'joy',\n",
       "       'anger', 'sadness', 'joy', 'joy', 'joy', 'sadness', 'joy', 'joy',\n",
       "       'joy', 'anger', 'anger', 'joy', 'fear', 'joy', 'joy', 'fear',\n",
       "       'fear', 'anger', 'anger', 'anger', 'joy', 'joy', 'sadness', 'joy',\n",
       "       'joy', 'anger', 'joy', 'joy', 'joy', 'anger', 'anger', 'joy',\n",
       "       'joy', 'joy', 'joy', 'sadness', 'joy', 'anger', 'joy', 'joy',\n",
       "       'sadness', 'anger', 'joy', 'joy', 'joy', 'anger', 'joy', 'anger',\n",
       "       'anger', 'joy', 'anger', 'joy', 'joy', 'sadness', 'anger', 'joy',\n",
       "       'joy', 'joy', 'joy', 'anger', 'anger', 'anger', 'anger', 'joy',\n",
       "       'joy', 'joy', 'anger', 'joy', 'fear', 'joy', 'sadness', 'joy',\n",
       "       'anger', 'anger', 'joy', 'fear', 'joy', 'joy', 'fear', 'joy',\n",
       "       'joy', 'joy', 'anger', 'anger', 'joy', 'anger', 'joy', 'fear',\n",
       "       'anger', 'joy', 'joy', 'sadness', 'anger', 'joy', 'anger', 'joy',\n",
       "       'anger', 'joy', 'joy', 'anger', 'joy', 'anger', 'joy', 'joy',\n",
       "       'joy', 'anger', 'joy', 'anger', 'joy', 'anger', 'anger', 'anger',\n",
       "       'anger', 'joy', 'joy', 'joy', 'joy', 'joy', 'joy', 'joy', 'joy',\n",
       "       'joy', 'joy', 'joy', 'joy', 'anger', 'joy', 'joy', 'sadness',\n",
       "       'joy', 'joy', 'joy', 'joy', 'anger', 'joy', 'anger', 'anger',\n",
       "       'joy', 'joy', 'joy', 'joy', 'joy', 'joy', 'anger', 'anger',\n",
       "       'anger', 'anger', 'fear', 'joy', 'sadness', 'joy', 'anger', 'joy',\n",
       "       'joy', 'joy', 'joy', 'sadness', 'joy', 'joy', 'joy', 'joy',\n",
       "       'anger', 'joy', 'anger', 'joy', 'joy', 'joy', 'anger', 'joy',\n",
       "       'joy', 'joy', 'joy', 'joy', 'joy', 'sadness', 'joy', 'joy', 'joy',\n",
       "       'joy', 'anger', 'joy', 'joy', 'joy', 'anger', 'joy', 'joy', 'joy',\n",
       "       'joy', 'anger', 'joy', 'joy', 'anger', 'joy', 'anger', 'sadness',\n",
       "       'joy', 'sadness', 'sadness', 'joy', 'anger', 'joy', 'joy', 'anger',\n",
       "       'joy', 'anger', 'joy', 'joy', 'sadness', 'joy', 'joy', 'anger',\n",
       "       'joy', 'joy', 'anger', 'joy', 'anger', 'joy', 'joy', 'joy',\n",
       "       'sadness', 'joy', 'anger', 'joy', 'sadness', 'sadness', 'anger',\n",
       "       'joy', 'joy', 'joy', 'anger', 'anger', 'joy', 'joy', 'anger',\n",
       "       'joy', 'joy', 'joy', 'joy', 'joy', 'anger', 'joy', 'anger',\n",
       "       'anger', 'joy', 'anger', 'anger', 'joy', 'joy', 'anger', 'joy',\n",
       "       'joy', 'sadness', 'joy', 'joy', 'joy', 'fear', 'joy', 'joy',\n",
       "       'sadness', 'joy', 'anger', 'joy', 'joy', 'anger', 'joy', 'sadness',\n",
       "       'anger', 'anger', 'joy', 'anger', 'sadness', 'anger', 'sadness',\n",
       "       'joy', 'anger', 'anger', 'joy', 'anger', 'anger', 'joy', 'sadness',\n",
       "       'joy', 'joy', 'sadness', 'anger', 'joy', 'joy', 'joy', 'anger',\n",
       "       'joy', 'joy', 'joy', 'joy', 'fear', 'anger', 'joy', 'sadness',\n",
       "       'joy', 'joy', 'fear', 'anger', 'anger', 'joy', 'anger', 'anger',\n",
       "       'joy', 'anger', 'joy', 'anger', 'anger', 'joy', 'anger', 'joy',\n",
       "       'joy', 'anger', 'joy', 'joy', 'joy', 'joy', 'anger', 'joy', 'fear',\n",
       "       'joy', 'anger', 'joy', 'anger', 'joy', 'joy', 'sadness', 'joy',\n",
       "       'joy', 'joy', 'fear', 'anger', 'joy', 'joy', 'joy', 'anger', 'joy',\n",
       "       'anger', 'joy', 'joy', 'anger', 'anger', 'joy', 'joy', 'joy',\n",
       "       'fear', 'anger', 'anger', 'joy', 'anger', 'joy', 'joy', 'joy'],\n",
       "      dtype=object)"
      ]
     },
     "execution_count": 27,
     "metadata": {},
     "output_type": "execute_result"
    }
   ],
   "source": [
    "y_pred"
   ]
  }
 ],
 "metadata": {
  "colab": {
   "collapsed_sections": [],
   "name": "04. Evaluating the Lexicon EMOTION ENSEMBLE.ipynb",
   "provenance": []
  },
  "kernelspec": {
   "display_name": "Python 3",
   "language": "python",
   "name": "python3"
  },
  "language_info": {
   "codemirror_mode": {
    "name": "ipython",
    "version": 3
   },
   "file_extension": ".py",
   "mimetype": "text/x-python",
   "name": "python",
   "nbconvert_exporter": "python",
   "pygments_lexer": "ipython3",
   "version": "3.8.3"
  }
 },
 "nbformat": 4,
 "nbformat_minor": 1
}
