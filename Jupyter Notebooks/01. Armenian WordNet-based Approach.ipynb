{
 "cells": [
  {
   "cell_type": "code",
   "execution_count": 1,
   "metadata": {},
   "outputs": [],
   "source": [
    "#import libraries\n",
    "import re\n",
    "import pickle\n",
    "import numpy as np\n",
    "import pandas as pd"
   ]
  },
  {
   "cell_type": "code",
   "execution_count": 2,
   "metadata": {},
   "outputs": [],
   "source": [
    "#read the files necessary: English wordnet, Armenian wordnet, SentiWordNet\n",
    "ewn = pd.read_csv('wn-wikt-eng.tab', sep = '\\t', encoding = 'utf8')\n",
    "hwn = pd.read_csv('wn-wikt-hye.tab', sep = '\\t', encoding = 'utf8')\n",
    "swn = pd.read_csv('SentiWordNet_3.0.0.txt', sep = '\\t', encoding = 'utf8', dtype = {'ID':'str'})"
   ]
  },
  {
   "cell_type": "code",
   "execution_count": 3,
   "metadata": {},
   "outputs": [
    {
     "name": "stdout",
     "output_type": "stream",
     "text": [
      "  # Wiktionary        eng http://wiktionary.org/  CC BY-SA\n",
      "0   00002098-a  eng:lemma                 unable       NaN\n",
      "1   00004171-a  eng:lemma               moribund       NaN\n",
      "2   00004413-a  eng:lemma               abridged       NaN\n",
      "3   00005205-a  eng:lemma               absolute       NaN\n",
      "4   00005599-a  eng:lemma               implicit       NaN\n",
      "  # Wiktionary        hye http://wiktionary.org/  CC BY-SA\n",
      "0   00014490-a  hye:lemma     միանգամայն բավարար       NaN\n",
      "1   00014490-a  hye:lemma                 լիառատ       NaN\n",
      "2   00024996-a  hye:lemma                    նոր       NaN\n",
      "3   00025470-a  hye:lemma                թթվային       NaN\n",
      "4   00029933-a  hye:lemma                   ագահ       NaN\n",
      "  POS        ID  PosScore  NegScore          SynsetTerms  \\\n",
      "0   a  00001740     0.125      0.00               able#1   \n",
      "1   a  00002098     0.000      0.75             unable#1   \n",
      "2   a  00002312     0.000      0.00   dorsal#2 abaxial#1   \n",
      "3   a  00002527     0.000      0.00  ventral#2 adaxial#1   \n",
      "4   a  00002730     0.000      0.00         acroscopic#1   \n",
      "\n",
      "                                               Gloss  \n",
      "0  (usually followed by `to') having the necessar...  \n",
      "1  (usually followed by `to') not having the nece...  \n",
      "2  facing away from the axis of an organ or organ...  \n",
      "3  nearest to or facing toward the axis of an org...  \n",
      "4              facing or on the side toward the apex  \n"
     ]
    }
   ],
   "source": [
    "#print the first five rows of each wordnet\n",
    "print(ewn.head())\n",
    "print(hwn.head())\n",
    "print(swn.head())"
   ]
  },
  {
   "cell_type": "code",
   "execution_count": 4,
   "metadata": {},
   "outputs": [
    {
     "data": {
      "text/plain": [
       "POS             object\n",
       "ID              object\n",
       "PosScore       float64\n",
       "NegScore       float64\n",
       "SynsetTerms     object\n",
       "Gloss           object\n",
       "dtype: object"
      ]
     },
     "execution_count": 4,
     "metadata": {},
     "output_type": "execute_result"
    }
   ],
   "source": [
    "#check the column types of swn\n",
    "swn.dtypes"
   ]
  },
  {
   "cell_type": "code",
   "execution_count": 5,
   "metadata": {},
   "outputs": [
    {
     "name": "stderr",
     "output_type": "stream",
     "text": [
      "<ipython-input-5-3e0b881162f0>:4: SettingWithCopyWarning: \n",
      "A value is trying to be set on a copy of a slice from a DataFrame\n",
      "\n",
      "See the caveats in the documentation: https://pandas.pydata.org/pandas-docs/stable/user_guide/indexing.html#returning-a-view-versus-a-copy\n",
      "  swn['Number'][i] = swn['Number'][i] + '-' + swn['POS'][i]\n"
     ]
    },
    {
     "ename": "TypeError",
     "evalue": "unsupported operand type(s) for +: 'float' and 'str'",
     "output_type": "error",
     "traceback": [
      "\u001b[1;31m---------------------------------------------------------------------------\u001b[0m",
      "\u001b[1;31mTypeError\u001b[0m                                 Traceback (most recent call last)",
      "\u001b[1;32m<ipython-input-5-3e0b881162f0>\u001b[0m in \u001b[0;36m<module>\u001b[1;34m\u001b[0m\n\u001b[0;32m      2\u001b[0m \u001b[0mswn\u001b[0m\u001b[1;33m[\u001b[0m\u001b[1;34m'Number'\u001b[0m\u001b[1;33m]\u001b[0m \u001b[1;33m=\u001b[0m \u001b[0mswn\u001b[0m\u001b[1;33m[\u001b[0m\u001b[1;34m'ID'\u001b[0m\u001b[1;33m]\u001b[0m\u001b[1;33m\u001b[0m\u001b[1;33m\u001b[0m\u001b[0m\n\u001b[0;32m      3\u001b[0m \u001b[1;32mfor\u001b[0m \u001b[0mi\u001b[0m \u001b[1;32min\u001b[0m \u001b[0mrange\u001b[0m\u001b[1;33m(\u001b[0m\u001b[0mlen\u001b[0m\u001b[1;33m(\u001b[0m\u001b[0mswn\u001b[0m\u001b[1;33m)\u001b[0m\u001b[1;33m)\u001b[0m\u001b[1;33m:\u001b[0m\u001b[1;33m\u001b[0m\u001b[1;33m\u001b[0m\u001b[0m\n\u001b[1;32m----> 4\u001b[1;33m     \u001b[0mswn\u001b[0m\u001b[1;33m[\u001b[0m\u001b[1;34m'Number'\u001b[0m\u001b[1;33m]\u001b[0m\u001b[1;33m[\u001b[0m\u001b[0mi\u001b[0m\u001b[1;33m]\u001b[0m \u001b[1;33m=\u001b[0m \u001b[0mswn\u001b[0m\u001b[1;33m[\u001b[0m\u001b[1;34m'Number'\u001b[0m\u001b[1;33m]\u001b[0m\u001b[1;33m[\u001b[0m\u001b[0mi\u001b[0m\u001b[1;33m]\u001b[0m \u001b[1;33m+\u001b[0m \u001b[1;34m'-'\u001b[0m \u001b[1;33m+\u001b[0m \u001b[0mswn\u001b[0m\u001b[1;33m[\u001b[0m\u001b[1;34m'POS'\u001b[0m\u001b[1;33m]\u001b[0m\u001b[1;33m[\u001b[0m\u001b[0mi\u001b[0m\u001b[1;33m]\u001b[0m\u001b[1;33m\u001b[0m\u001b[1;33m\u001b[0m\u001b[0m\n\u001b[0m\u001b[0;32m      5\u001b[0m \u001b[0mswn\u001b[0m\u001b[1;33m.\u001b[0m\u001b[0mhead\u001b[0m\u001b[1;33m(\u001b[0m\u001b[1;33m)\u001b[0m\u001b[1;33m\u001b[0m\u001b[1;33m\u001b[0m\u001b[0m\n",
      "\u001b[1;31mTypeError\u001b[0m: unsupported operand type(s) for +: 'float' and 'str'"
     ]
    }
   ],
   "source": [
    "#change swn IDs to match English wordnet ID format\n",
    "swn['Number'] = swn['ID']\n",
    "for i in range(len(swn)):\n",
    "    swn['Number'][i] = swn['Number'][i] + '-' + swn['POS'][i]\n",
    "swn.head()"
   ]
  },
  {
   "cell_type": "code",
   "execution_count": 6,
   "metadata": {},
   "outputs": [
    {
     "data": {
      "text/html": [
       "<div>\n",
       "<style scoped>\n",
       "    .dataframe tbody tr th:only-of-type {\n",
       "        vertical-align: middle;\n",
       "    }\n",
       "\n",
       "    .dataframe tbody tr th {\n",
       "        vertical-align: top;\n",
       "    }\n",
       "\n",
       "    .dataframe thead th {\n",
       "        text-align: right;\n",
       "    }\n",
       "</style>\n",
       "<table border=\"1\" class=\"dataframe\">\n",
       "  <thead>\n",
       "    <tr style=\"text-align: right;\">\n",
       "      <th></th>\n",
       "      <th>POS</th>\n",
       "      <th>ID</th>\n",
       "      <th>PosScore</th>\n",
       "      <th>NegScore</th>\n",
       "      <th>SynsetTerms</th>\n",
       "      <th>Gloss</th>\n",
       "      <th>Number</th>\n",
       "    </tr>\n",
       "  </thead>\n",
       "  <tbody>\n",
       "    <tr>\n",
       "      <th>117655</th>\n",
       "      <td>v</td>\n",
       "      <td>02771888</td>\n",
       "      <td>0.000</td>\n",
       "      <td>0.125</td>\n",
       "      <td>fog_up#1</td>\n",
       "      <td>get foggy; \"The windshield fogged up\"</td>\n",
       "      <td>02771888-v</td>\n",
       "    </tr>\n",
       "    <tr>\n",
       "      <th>117656</th>\n",
       "      <td>v</td>\n",
       "      <td>02771997</td>\n",
       "      <td>0.000</td>\n",
       "      <td>0.000</td>\n",
       "      <td>coal#1 char#1</td>\n",
       "      <td>burn to charcoal; \"Without a drenching rain, t...</td>\n",
       "      <td>02771997-v</td>\n",
       "    </tr>\n",
       "    <tr>\n",
       "      <th>117657</th>\n",
       "      <td>v</td>\n",
       "      <td>02772202</td>\n",
       "      <td>0.125</td>\n",
       "      <td>0.250</td>\n",
       "      <td>haze#1</td>\n",
       "      <td>become hazy, dull, or cloudy</td>\n",
       "      <td>02772202-v</td>\n",
       "    </tr>\n",
       "    <tr>\n",
       "      <th>117658</th>\n",
       "      <td>v</td>\n",
       "      <td>02772310</td>\n",
       "      <td>0.125</td>\n",
       "      <td>0.000</td>\n",
       "      <td>deflagrate#1</td>\n",
       "      <td>cause to burn rapidly and with great intensity...</td>\n",
       "      <td>02772310-v</td>\n",
       "    </tr>\n",
       "    <tr>\n",
       "      <th>117659</th>\n",
       "      <td>NaN</td>\n",
       "      <td>NaN</td>\n",
       "      <td>NaN</td>\n",
       "      <td>NaN</td>\n",
       "      <td>#</td>\n",
       "      <td>NaN</td>\n",
       "      <td>NaN</td>\n",
       "    </tr>\n",
       "  </tbody>\n",
       "</table>\n",
       "</div>"
      ],
      "text/plain": [
       "        POS        ID  PosScore  NegScore    SynsetTerms  \\\n",
       "117655    v  02771888     0.000     0.125       fog_up#1   \n",
       "117656    v  02771997     0.000     0.000  coal#1 char#1   \n",
       "117657    v  02772202     0.125     0.250         haze#1   \n",
       "117658    v  02772310     0.125     0.000   deflagrate#1   \n",
       "117659  NaN       NaN       NaN       NaN              #   \n",
       "\n",
       "                                                    Gloss      Number  \n",
       "117655              get foggy; \"The windshield fogged up\"  02771888-v  \n",
       "117656  burn to charcoal; \"Without a drenching rain, t...  02771997-v  \n",
       "117657                       become hazy, dull, or cloudy  02772202-v  \n",
       "117658  cause to burn rapidly and with great intensity...  02772310-v  \n",
       "117659                                                NaN         NaN  "
      ]
     },
     "execution_count": 6,
     "metadata": {},
     "output_type": "execute_result"
    }
   ],
   "source": [
    "#check last row of swn\n",
    "swn.tail()"
   ]
  },
  {
   "cell_type": "code",
   "execution_count": 7,
   "metadata": {},
   "outputs": [],
   "source": [
    "#drop that row\n",
    "swn = swn.drop(117659)"
   ]
  },
  {
   "cell_type": "code",
   "execution_count": 8,
   "metadata": {},
   "outputs": [
    {
     "data": {
      "text/html": [
       "<div>\n",
       "<style scoped>\n",
       "    .dataframe tbody tr th:only-of-type {\n",
       "        vertical-align: middle;\n",
       "    }\n",
       "\n",
       "    .dataframe tbody tr th {\n",
       "        vertical-align: top;\n",
       "    }\n",
       "\n",
       "    .dataframe thead th {\n",
       "        text-align: right;\n",
       "    }\n",
       "</style>\n",
       "<table border=\"1\" class=\"dataframe\">\n",
       "  <thead>\n",
       "    <tr style=\"text-align: right;\">\n",
       "      <th></th>\n",
       "      <th>ID</th>\n",
       "      <th>Armenian</th>\n",
       "      <th>English</th>\n",
       "      <th>Positive</th>\n",
       "      <th>Negative</th>\n",
       "      <th>Objective</th>\n",
       "    </tr>\n",
       "  </thead>\n",
       "  <tbody>\n",
       "    <tr>\n",
       "      <th>0</th>\n",
       "      <td>00014490-a</td>\n",
       "      <td>միանգամայն բավարար</td>\n",
       "      <td>NaN</td>\n",
       "      <td>NaN</td>\n",
       "      <td>NaN</td>\n",
       "      <td>NaN</td>\n",
       "    </tr>\n",
       "    <tr>\n",
       "      <th>1</th>\n",
       "      <td>00014490-a</td>\n",
       "      <td>լիառատ</td>\n",
       "      <td>NaN</td>\n",
       "      <td>NaN</td>\n",
       "      <td>NaN</td>\n",
       "      <td>NaN</td>\n",
       "    </tr>\n",
       "    <tr>\n",
       "      <th>2</th>\n",
       "      <td>00024996-a</td>\n",
       "      <td>նոր</td>\n",
       "      <td>NaN</td>\n",
       "      <td>NaN</td>\n",
       "      <td>NaN</td>\n",
       "      <td>NaN</td>\n",
       "    </tr>\n",
       "    <tr>\n",
       "      <th>3</th>\n",
       "      <td>00025470-a</td>\n",
       "      <td>թթվային</td>\n",
       "      <td>NaN</td>\n",
       "      <td>NaN</td>\n",
       "      <td>NaN</td>\n",
       "      <td>NaN</td>\n",
       "    </tr>\n",
       "    <tr>\n",
       "      <th>4</th>\n",
       "      <td>00029933-a</td>\n",
       "      <td>ագահ</td>\n",
       "      <td>NaN</td>\n",
       "      <td>NaN</td>\n",
       "      <td>NaN</td>\n",
       "      <td>NaN</td>\n",
       "    </tr>\n",
       "  </tbody>\n",
       "</table>\n",
       "</div>"
      ],
      "text/plain": [
       "           ID            Armenian  English  Positive  Negative  Objective\n",
       "0  00014490-a  միանգամայն բավարար      NaN       NaN       NaN        NaN\n",
       "1  00014490-a              լիառատ      NaN       NaN       NaN        NaN\n",
       "2  00024996-a                 նոր      NaN       NaN       NaN        NaN\n",
       "3  00025470-a             թթվային      NaN       NaN       NaN        NaN\n",
       "4  00029933-a                ագահ      NaN       NaN       NaN        NaN"
      ]
     },
     "execution_count": 8,
     "metadata": {},
     "output_type": "execute_result"
    }
   ],
   "source": [
    "#add the three columns: English words, Positive, Negative, Objective scores to hwn\n",
    "hwn['English'] = np.nan\n",
    "hwn['Positive'] = np.nan\n",
    "hwn['Negative'] = np.nan\n",
    "hwn['Objective'] = np.nan\n",
    "\n",
    "#change column names and drop some unneeded columns\n",
    "hwn = hwn.rename(columns = {'# Wiktionary':'ID', 'http://wiktionary.org/':'Armenian'})\n",
    "hwn = hwn.drop(['hye', 'CC BY-SA'], axis = 1)\n",
    "\n",
    "#print the result\n",
    "hwn.head()"
   ]
  },
  {
   "cell_type": "code",
   "execution_count": 9,
   "metadata": {},
   "outputs": [
    {
     "name": "stderr",
     "output_type": "stream",
     "text": [
      "<ipython-input-9-182e5c7122ee>:7: SettingWithCopyWarning: \n",
      "A value is trying to be set on a copy of a slice from a DataFrame\n",
      "\n",
      "See the caveats in the documentation: https://pandas.pydata.org/pandas-docs/stable/user_guide/indexing.html#returning-a-view-versus-a-copy\n",
      "  hwn['English'][ind] = swn['SynsetTerms'][i]\n",
      "C:\\ProgramData\\Anaconda3\\lib\\site-packages\\pandas\\core\\indexing.py:671: SettingWithCopyWarning: \n",
      "A value is trying to be set on a copy of a slice from a DataFrame\n",
      "\n",
      "See the caveats in the documentation: https://pandas.pydata.org/pandas-docs/stable/user_guide/indexing.html#returning-a-view-versus-a-copy\n",
      "  self._setitem_with_indexer(indexer, value)\n",
      "<ipython-input-9-182e5c7122ee>:8: SettingWithCopyWarning: \n",
      "A value is trying to be set on a copy of a slice from a DataFrame\n",
      "\n",
      "See the caveats in the documentation: https://pandas.pydata.org/pandas-docs/stable/user_guide/indexing.html#returning-a-view-versus-a-copy\n",
      "  hwn['Positive'][ind] = swn['PosScore'][i]\n",
      "<ipython-input-9-182e5c7122ee>:9: SettingWithCopyWarning: \n",
      "A value is trying to be set on a copy of a slice from a DataFrame\n",
      "\n",
      "See the caveats in the documentation: https://pandas.pydata.org/pandas-docs/stable/user_guide/indexing.html#returning-a-view-versus-a-copy\n",
      "  hwn['Negative'][ind] = swn['NegScore'][i]\n",
      "<ipython-input-9-182e5c7122ee>:10: SettingWithCopyWarning: \n",
      "A value is trying to be set on a copy of a slice from a DataFrame\n",
      "\n",
      "See the caveats in the documentation: https://pandas.pydata.org/pandas-docs/stable/user_guide/indexing.html#returning-a-view-versus-a-copy\n",
      "  hwn['Objective'][ind] = 1 - (swn['PosScore'][i] + swn['NegScore'][i])\n"
     ]
    }
   ],
   "source": [
    "#get the scores from swn\n",
    "for i in range(len(swn)):\n",
    "    score = hwn.loc[hwn['ID'] == (swn['Number'][i])]\n",
    "    if score.empty == False:\n",
    "        index = list(score.index)\n",
    "        for ind in index:\n",
    "            hwn['English'][ind] = swn['SynsetTerms'][i]\n",
    "            hwn['Positive'][ind] = swn['PosScore'][i]\n",
    "            hwn['Negative'][ind] = swn['NegScore'][i]\n",
    "            hwn['Objective'][ind] = 1 - (swn['PosScore'][i] + swn['NegScore'][i])"
   ]
  },
  {
   "cell_type": "code",
   "execution_count": 10,
   "metadata": {},
   "outputs": [
    {
     "name": "stdout",
     "output_type": "stream",
     "text": [
      "Int64Index([], dtype='int64')\n"
     ]
    }
   ],
   "source": [
    "#check if any of the entries has no score\n",
    "indexes = hwn['Positive'].index[hwn['Positive'].apply(np.isnan)]\n",
    "print(indexes)"
   ]
  },
  {
   "cell_type": "code",
   "execution_count": 11,
   "metadata": {},
   "outputs": [
    {
     "name": "stderr",
     "output_type": "stream",
     "text": [
      "<ipython-input-11-632c8adb5ad3>:5: SettingWithCopyWarning: \n",
      "A value is trying to be set on a copy of a slice from a DataFrame\n",
      "\n",
      "See the caveats in the documentation: https://pandas.pydata.org/pandas-docs/stable/user_guide/indexing.html#returning-a-view-versus-a-copy\n",
      "  hwn['SWN_Offset'][i] = hwn['SWN_Offset'][i][:-2]\n"
     ]
    }
   ],
   "source": [
    "#rename columns of hwn\n",
    "hwn = hwn.rename(columns = {'ID':'HWN_Offset'})\n",
    "hwn['SWN_Offset'] = hwn['HWN_Offset']\n",
    "for i in range(len(hwn)):\n",
    "    hwn['SWN_Offset'][i] = hwn['SWN_Offset'][i][:-2]\n",
    "hwn = hwn[['HWN_Offset', 'SWN_Offset', 'Armenian', 'English', 'Positive', 'Negative', 'Objective']]"
   ]
  },
  {
   "cell_type": "code",
   "execution_count": 12,
   "metadata": {},
   "outputs": [
    {
     "data": {
      "text/html": [
       "<div>\n",
       "<style scoped>\n",
       "    .dataframe tbody tr th:only-of-type {\n",
       "        vertical-align: middle;\n",
       "    }\n",
       "\n",
       "    .dataframe tbody tr th {\n",
       "        vertical-align: top;\n",
       "    }\n",
       "\n",
       "    .dataframe thead th {\n",
       "        text-align: right;\n",
       "    }\n",
       "</style>\n",
       "<table border=\"1\" class=\"dataframe\">\n",
       "  <thead>\n",
       "    <tr style=\"text-align: right;\">\n",
       "      <th></th>\n",
       "      <th>HWN_Offset</th>\n",
       "      <th>SWN_Offset</th>\n",
       "      <th>Armenian</th>\n",
       "      <th>English</th>\n",
       "      <th>Positive</th>\n",
       "      <th>Negative</th>\n",
       "      <th>Objective</th>\n",
       "    </tr>\n",
       "  </thead>\n",
       "  <tbody>\n",
       "    <tr>\n",
       "      <th>0</th>\n",
       "      <td>00014490-a</td>\n",
       "      <td>00014490</td>\n",
       "      <td>միանգամայն բավարար</td>\n",
       "      <td>rich#12 plentiful#2 plenteous#1 copious#2 ample#2</td>\n",
       "      <td>0.125</td>\n",
       "      <td>0.000</td>\n",
       "      <td>0.875</td>\n",
       "    </tr>\n",
       "    <tr>\n",
       "      <th>1</th>\n",
       "      <td>00014490-a</td>\n",
       "      <td>00014490</td>\n",
       "      <td>լիառատ</td>\n",
       "      <td>rich#12 plentiful#2 plenteous#1 copious#2 ample#2</td>\n",
       "      <td>0.125</td>\n",
       "      <td>0.000</td>\n",
       "      <td>0.875</td>\n",
       "    </tr>\n",
       "    <tr>\n",
       "      <th>2</th>\n",
       "      <td>00024996-a</td>\n",
       "      <td>00024996</td>\n",
       "      <td>նոր</td>\n",
       "      <td>new#11</td>\n",
       "      <td>0.000</td>\n",
       "      <td>0.125</td>\n",
       "      <td>0.875</td>\n",
       "    </tr>\n",
       "    <tr>\n",
       "      <th>3</th>\n",
       "      <td>00025470-a</td>\n",
       "      <td>00025470</td>\n",
       "      <td>թթվային</td>\n",
       "      <td>acid#3</td>\n",
       "      <td>0.000</td>\n",
       "      <td>0.375</td>\n",
       "      <td>0.625</td>\n",
       "    </tr>\n",
       "    <tr>\n",
       "      <th>4</th>\n",
       "      <td>00029933-a</td>\n",
       "      <td>00029933</td>\n",
       "      <td>ագահ</td>\n",
       "      <td>prehensile#3 greedy#1 grasping#1 grabby#1 cove...</td>\n",
       "      <td>0.000</td>\n",
       "      <td>0.000</td>\n",
       "      <td>1.000</td>\n",
       "    </tr>\n",
       "  </tbody>\n",
       "</table>\n",
       "</div>"
      ],
      "text/plain": [
       "   HWN_Offset SWN_Offset            Armenian  \\\n",
       "0  00014490-a   00014490  միանգամայն բավարար   \n",
       "1  00014490-a   00014490              լիառատ   \n",
       "2  00024996-a   00024996                 նոր   \n",
       "3  00025470-a   00025470             թթվային   \n",
       "4  00029933-a   00029933                ագահ   \n",
       "\n",
       "                                             English  Positive  Negative  \\\n",
       "0  rich#12 plentiful#2 plenteous#1 copious#2 ample#2     0.125     0.000   \n",
       "1  rich#12 plentiful#2 plenteous#1 copious#2 ample#2     0.125     0.000   \n",
       "2                                             new#11     0.000     0.125   \n",
       "3                                             acid#3     0.000     0.375   \n",
       "4  prehensile#3 greedy#1 grasping#1 grabby#1 cove...     0.000     0.000   \n",
       "\n",
       "   Objective  \n",
       "0      0.875  \n",
       "1      0.875  \n",
       "2      0.875  \n",
       "3      0.625  \n",
       "4      1.000  "
      ]
     },
     "execution_count": 12,
     "metadata": {},
     "output_type": "execute_result"
    }
   ],
   "source": [
    "#print the result\n",
    "hwn.head()"
   ]
  },
  {
   "cell_type": "code",
   "execution_count": 13,
   "metadata": {},
   "outputs": [
    {
     "name": "stderr",
     "output_type": "stream",
     "text": [
      "<ipython-input-13-3beb05629ced>:7: SettingWithCopyWarning: \n",
      "A value is trying to be set on a copy of a slice from a DataFrame\n",
      "\n",
      "See the caveats in the documentation: https://pandas.pydata.org/pandas-docs/stable/user_guide/indexing.html#returning-a-view-versus-a-copy\n",
      "  hwn['English'][i] = s\n"
     ]
    }
   ],
   "source": [
    "#change how the words appear in the English column of hwn (to be more presentable)\n",
    "for i in range(len(hwn)):\n",
    "    s = hwn['English'][i]\n",
    "    s = s.replace('#', '')\n",
    "    s = re.sub(r'\\d+', '', s)\n",
    "    s = s.replace(' ', ',')\n",
    "    hwn['English'][i] = s"
   ]
  },
  {
   "cell_type": "code",
   "execution_count": 14,
   "metadata": {},
   "outputs": [
    {
     "data": {
      "text/html": [
       "<div>\n",
       "<style scoped>\n",
       "    .dataframe tbody tr th:only-of-type {\n",
       "        vertical-align: middle;\n",
       "    }\n",
       "\n",
       "    .dataframe tbody tr th {\n",
       "        vertical-align: top;\n",
       "    }\n",
       "\n",
       "    .dataframe thead th {\n",
       "        text-align: right;\n",
       "    }\n",
       "</style>\n",
       "<table border=\"1\" class=\"dataframe\">\n",
       "  <thead>\n",
       "    <tr style=\"text-align: right;\">\n",
       "      <th></th>\n",
       "      <th>HWN_Offset</th>\n",
       "      <th>SWN_Offset</th>\n",
       "      <th>Armenian</th>\n",
       "      <th>English</th>\n",
       "      <th>Positive</th>\n",
       "      <th>Negative</th>\n",
       "      <th>Objective</th>\n",
       "    </tr>\n",
       "  </thead>\n",
       "  <tbody>\n",
       "    <tr>\n",
       "      <th>0</th>\n",
       "      <td>00014490-a</td>\n",
       "      <td>00014490</td>\n",
       "      <td>միանգամայն բավարար</td>\n",
       "      <td>rich,plentiful,plenteous,copious,ample</td>\n",
       "      <td>0.125</td>\n",
       "      <td>0.000</td>\n",
       "      <td>0.875</td>\n",
       "    </tr>\n",
       "    <tr>\n",
       "      <th>1</th>\n",
       "      <td>00014490-a</td>\n",
       "      <td>00014490</td>\n",
       "      <td>լիառատ</td>\n",
       "      <td>rich,plentiful,plenteous,copious,ample</td>\n",
       "      <td>0.125</td>\n",
       "      <td>0.000</td>\n",
       "      <td>0.875</td>\n",
       "    </tr>\n",
       "    <tr>\n",
       "      <th>2</th>\n",
       "      <td>00024996-a</td>\n",
       "      <td>00024996</td>\n",
       "      <td>նոր</td>\n",
       "      <td>new</td>\n",
       "      <td>0.000</td>\n",
       "      <td>0.125</td>\n",
       "      <td>0.875</td>\n",
       "    </tr>\n",
       "    <tr>\n",
       "      <th>3</th>\n",
       "      <td>00025470-a</td>\n",
       "      <td>00025470</td>\n",
       "      <td>թթվային</td>\n",
       "      <td>acid</td>\n",
       "      <td>0.000</td>\n",
       "      <td>0.375</td>\n",
       "      <td>0.625</td>\n",
       "    </tr>\n",
       "    <tr>\n",
       "      <th>4</th>\n",
       "      <td>00029933-a</td>\n",
       "      <td>00029933</td>\n",
       "      <td>ագահ</td>\n",
       "      <td>prehensile,greedy,grasping,grabby,covetous,ava...</td>\n",
       "      <td>0.000</td>\n",
       "      <td>0.000</td>\n",
       "      <td>1.000</td>\n",
       "    </tr>\n",
       "  </tbody>\n",
       "</table>\n",
       "</div>"
      ],
      "text/plain": [
       "   HWN_Offset SWN_Offset            Armenian  \\\n",
       "0  00014490-a   00014490  միանգամայն բավարար   \n",
       "1  00014490-a   00014490              լիառատ   \n",
       "2  00024996-a   00024996                 նոր   \n",
       "3  00025470-a   00025470             թթվային   \n",
       "4  00029933-a   00029933                ագահ   \n",
       "\n",
       "                                             English  Positive  Negative  \\\n",
       "0             rich,plentiful,plenteous,copious,ample     0.125     0.000   \n",
       "1             rich,plentiful,plenteous,copious,ample     0.125     0.000   \n",
       "2                                                new     0.000     0.125   \n",
       "3                                               acid     0.000     0.375   \n",
       "4  prehensile,greedy,grasping,grabby,covetous,ava...     0.000     0.000   \n",
       "\n",
       "   Objective  \n",
       "0      0.875  \n",
       "1      0.875  \n",
       "2      0.875  \n",
       "3      0.625  \n",
       "4      1.000  "
      ]
     },
     "execution_count": 14,
     "metadata": {},
     "output_type": "execute_result"
    }
   ],
   "source": [
    "#print final result\n",
    "hwn.head()"
   ]
  },
  {
   "cell_type": "code",
   "execution_count": 15,
   "metadata": {},
   "outputs": [],
   "source": [
    "#save the dataframe as a pickle file\n",
    "with open('hwn.pickle', 'wb') as f:\n",
    "    pickle.dump(hwn, f)\n",
    "    \n",
    "#save the dataframe as a text file (for those interested to read the results)\n",
    "with open('hwn.txt', 'w', encoding = 'utf-8') as f:\n",
    "    f.write(hwn.to_string())"
   ]
  }
 ],
 "metadata": {
  "kernelspec": {
   "display_name": "Python 3",
   "language": "python",
   "name": "python3"
  },
  "language_info": {
   "codemirror_mode": {
    "name": "ipython",
    "version": 3
   },
   "file_extension": ".py",
   "mimetype": "text/x-python",
   "name": "python",
   "nbconvert_exporter": "python",
   "pygments_lexer": "ipython3",
   "version": "3.8.3"
  }
 },
 "nbformat": 4,
 "nbformat_minor": 4
}
