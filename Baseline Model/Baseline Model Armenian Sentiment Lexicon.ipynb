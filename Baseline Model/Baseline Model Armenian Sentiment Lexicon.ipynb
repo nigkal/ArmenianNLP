{
 "cells": [
  {
   "cell_type": "code",
   "execution_count": 1,
   "metadata": {},
   "outputs": [],
   "source": [
    "#import libraries\n",
    "import pandas as pd\n",
    "import numpy as np\n",
    "import pickle\n",
    "from sklearn.metrics import accuracy_score, f1_score, recall_score, precision_score"
   ]
  },
  {
   "cell_type": "code",
   "execution_count": 2,
   "metadata": {},
   "outputs": [
    {
     "data": {
      "text/html": [
       "<div>\n",
       "<style scoped>\n",
       "    .dataframe tbody tr th:only-of-type {\n",
       "        vertical-align: middle;\n",
       "    }\n",
       "\n",
       "    .dataframe tbody tr th {\n",
       "        vertical-align: top;\n",
       "    }\n",
       "\n",
       "    .dataframe thead th {\n",
       "        text-align: right;\n",
       "    }\n",
       "</style>\n",
       "<table border=\"1\" class=\"dataframe\">\n",
       "  <thead>\n",
       "    <tr style=\"text-align: right;\">\n",
       "      <th></th>\n",
       "      <th>Unnamed: 0</th>\n",
       "      <th>Column1</th>\n",
       "      <th>Column2</th>\n",
       "      <th>Column3</th>\n",
       "      <th>Column4</th>\n",
       "      <th>Column5</th>\n",
       "    </tr>\n",
       "  </thead>\n",
       "  <tbody>\n",
       "    <tr>\n",
       "      <th>0</th>\n",
       "      <td>0</td>\n",
       "      <td>5.230650e+17</td>\n",
       "      <td>aaron rodgers</td>\n",
       "      <td>negative</td>\n",
       "      <td>@Espngreeny Ես Ֆինսի երկրպագու եմ, ուրբաթ է, ի...</td>\n",
       "      <td>NaN</td>\n",
       "    </tr>\n",
       "    <tr>\n",
       "      <th>1</th>\n",
       "      <td>1</td>\n",
       "      <td>5.224770e+17</td>\n",
       "      <td>aaron rodgers</td>\n",
       "      <td>positive</td>\n",
       "      <td>Ահարոն Ռոջերսը իրոք որսում է կիրակի երեկոյան կ...</td>\n",
       "      <td>NaN</td>\n",
       "    </tr>\n",
       "    <tr>\n",
       "      <th>2</th>\n",
       "      <td>2</td>\n",
       "      <td>5.225120e+17</td>\n",
       "      <td>aaron rodgers</td>\n",
       "      <td>positive</td>\n",
       "      <td>Բրիտանացի Ահարոն Ռոջերսը կարող է լինել ամենահա...</td>\n",
       "      <td>NaN</td>\n",
       "    </tr>\n",
       "    <tr>\n",
       "      <th>3</th>\n",
       "      <td>3</td>\n",
       "      <td>5.225200e+17</td>\n",
       "      <td>aaron rodgers</td>\n",
       "      <td>positive</td>\n",
       "      <td>Ինչն է Ահարոն Ռոջերսին այդքան լավը դարձնում վե...</td>\n",
       "      <td>NaN</td>\n",
       "    </tr>\n",
       "    <tr>\n",
       "      <th>4</th>\n",
       "      <td>4</td>\n",
       "      <td>5.226780e+17</td>\n",
       "      <td>aaron rodgers</td>\n",
       "      <td>positive</td>\n",
       "      <td>Ահարոն Ռոջերսի վերջին դրայվը անհավանական էր: Բ...</td>\n",
       "      <td>NaN</td>\n",
       "    </tr>\n",
       "  </tbody>\n",
       "</table>\n",
       "</div>"
      ],
      "text/plain": [
       "   Unnamed: 0       Column1        Column2   Column3  \\\n",
       "0           0  5.230650e+17  aaron rodgers  negative   \n",
       "1           1  5.224770e+17  aaron rodgers  positive   \n",
       "2           2  5.225120e+17  aaron rodgers  positive   \n",
       "3           3  5.225200e+17  aaron rodgers  positive   \n",
       "4           4  5.226780e+17  aaron rodgers  positive   \n",
       "\n",
       "                                             Column4  Column5  \n",
       "0  @Espngreeny Ես Ֆինսի երկրպագու եմ, ուրբաթ է, ի...      NaN  \n",
       "1  Ահարոն Ռոջերսը իրոք որսում է կիրակի երեկոյան կ...      NaN  \n",
       "2  Բրիտանացի Ահարոն Ռոջերսը կարող է լինել ամենահա...      NaN  \n",
       "3  Ինչն է Ահարոն Ռոջերսին այդքան լավը դարձնում վե...      NaN  \n",
       "4  Ահարոն Ռոջերսի վերջին դրայվը անհավանական էր: Բ...      NaN  "
      ]
     },
     "execution_count": 2,
     "metadata": {},
     "output_type": "execute_result"
    }
   ],
   "source": [
    "#open the data\n",
    "data = pd.read_csv('SentimentTest_B.csv', encoding = 'utf-8')\n",
    "data.head()"
   ]
  },
  {
   "cell_type": "code",
   "execution_count": 3,
   "metadata": {},
   "outputs": [
    {
     "data": {
      "text/plain": [
       "positive    867\n",
       "negative    260\n",
       "Name: Column3, dtype: int64"
      ]
     },
     "execution_count": 3,
     "metadata": {},
     "output_type": "execute_result"
    }
   ],
   "source": [
    "data['Column3'].value_counts()"
   ]
  },
  {
   "cell_type": "code",
   "execution_count": 4,
   "metadata": {},
   "outputs": [
    {
     "data": {
      "text/plain": [
       "1127"
      ]
     },
     "execution_count": 4,
     "metadata": {},
     "output_type": "execute_result"
    }
   ],
   "source": [
    "len(data)"
   ]
  },
  {
   "cell_type": "code",
   "execution_count": 5,
   "metadata": {},
   "outputs": [],
   "source": [
    "#retrieve the input and target\n",
    "with open('SentimentTestTextB.pickle', 'rb') as f:\n",
    "    X = pickle.load(f)\n",
    "y = data['Column3']"
   ]
  },
  {
   "cell_type": "code",
   "execution_count": 6,
   "metadata": {},
   "outputs": [],
   "source": [
    "#open the lexicon\n",
    "with open('sentimentScores_final.pickle', 'rb') as f:\n",
    "    scores = pickle.load(f)"
   ]
  },
  {
   "cell_type": "code",
   "execution_count": 7,
   "metadata": {},
   "outputs": [],
   "source": [
    "#function to transform the text into a vector of size 3: [Positive, Negative, Objective]\n",
    "def transform(x):\n",
    "    total = 0\n",
    "    count = 0\n",
    "    score = np.zeros((len(x), 3))\n",
    "    for i in x.index:\n",
    "        s = np.zeros((len(x[i]), 3))\n",
    "        for j in range(len(x[i])):\n",
    "            total += 1\n",
    "            if x[i][j] in scores['Armenian'].values:\n",
    "                count += 1\n",
    "                ind = np.where(scores['Armenian'] == x[i][j])[0]\n",
    "                pos, neg, obj = 0, 0, 0\n",
    "                for k in range(len(ind)):\n",
    "                    pos += scores['Positive'][ind[k]]\n",
    "                    neg += scores['Negative'][ind[k]]\n",
    "                    obj += scores['Objective'][ind[k]]\n",
    "                s[j][0] = pos / len(ind)\n",
    "                s[j][1] = neg / len(ind)\n",
    "                s[j][2] = obj / len(ind)\n",
    "        t = s.sum(axis = 0)\n",
    "        h = list(x.index).index(i)\n",
    "        score[h] = t\n",
    "    return [score, count, total]"
   ]
  },
  {
   "cell_type": "code",
   "execution_count": 8,
   "metadata": {},
   "outputs": [],
   "source": [
    "#transform the input data\n",
    "transformed = transform(X)\n",
    "text = pd.DataFrame(transformed[0], index = X.index)\n",
    "text.columns = ['Positive', 'Negative', 'Objective']"
   ]
  },
  {
   "cell_type": "code",
   "execution_count": 9,
   "metadata": {},
   "outputs": [
    {
     "name": "stdout",
     "output_type": "stream",
     "text": [
      "54.634035803308414\n"
     ]
    }
   ],
   "source": [
    "#success rate\n",
    "print(transformed[1] / transformed[2] * 100)"
   ]
  },
  {
   "cell_type": "code",
   "execution_count": 10,
   "metadata": {},
   "outputs": [],
   "source": [
    "#change the target values to (0, 1) to reflect (negative, positive)\n",
    "real = np.zeros(len(y))\n",
    "for i in range(len(y)):\n",
    "    if y[i] == 'positive':\n",
    "        real[i] = 1\n",
    "    else:\n",
    "        real[i] = 0\n",
    "real = pd.Series(real, index = y.index)"
   ]
  },
  {
   "cell_type": "code",
   "execution_count": 15,
   "metadata": {},
   "outputs": [],
   "source": [
    "#baseline model to evaluate the lexicon\n",
    "results = []\n",
    "for i in range(len(text)):\n",
    "    result = text['Positive'][i] - text['Negative'][i]\n",
    "    if result >= 0:\n",
    "        results.append(1)\n",
    "    elif result < 0:\n",
    "        results.append(0)\n",
    "results = pd.Series(results, index = y.index)"
   ]
  },
  {
   "cell_type": "code",
   "execution_count": 16,
   "metadata": {},
   "outputs": [
    {
     "name": "stdout",
     "output_type": "stream",
     "text": [
      "Accuracy: 0.6983141082519965\n",
      "F-measure: 0.8023255813953488\n",
      "Recall: 0.7958477508650519\n",
      "Precision: 0.8089097303634232\n"
     ]
    }
   ],
   "source": [
    "#check performance\n",
    "acc = accuracy_score(real, results)\n",
    "f1 = f1_score(real, results)\n",
    "rec = recall_score(real, results)\n",
    "pre = precision_score(real, results)\n",
    "print('Accuracy:', acc)\n",
    "print('F-measure:', f1)\n",
    "print('Recall:', rec)\n",
    "print('Precision:', pre)"
   ]
  },
  {
   "cell_type": "code",
   "execution_count": 18,
   "metadata": {},
   "outputs": [
    {
     "name": "stdout",
     "output_type": "stream",
     "text": [
      "[[ 97 163]\n",
      " [177 690]]\n"
     ]
    }
   ],
   "source": [
    "from sklearn.metrics import confusion_matrix\n",
    "print(confusion_matrix(real, results))"
   ]
  }
 ],
 "metadata": {
  "kernelspec": {
   "display_name": "Python 3",
   "language": "python",
   "name": "python3"
  },
  "language_info": {
   "codemirror_mode": {
    "name": "ipython",
    "version": 3
   },
   "file_extension": ".py",
   "mimetype": "text/x-python",
   "name": "python",
   "nbconvert_exporter": "python",
   "pygments_lexer": "ipython3",
   "version": "3.8.3"
  }
 },
 "nbformat": 4,
 "nbformat_minor": 4
}
