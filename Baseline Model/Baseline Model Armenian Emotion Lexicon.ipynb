{
 "cells": [
  {
   "cell_type": "code",
   "execution_count": 1,
   "metadata": {},
   "outputs": [],
   "source": [
    "#import libraries\n",
    "import pandas as pd\n",
    "import numpy as np\n",
    "import pickle\n",
    "from sklearn.metrics import accuracy_score, f1_score, recall_score, precision_score, confusion_matrix"
   ]
  },
  {
   "cell_type": "code",
   "execution_count": 2,
   "metadata": {},
   "outputs": [
    {
     "data": {
      "text/html": [
       "<div>\n",
       "<style scoped>\n",
       "    .dataframe tbody tr th:only-of-type {\n",
       "        vertical-align: middle;\n",
       "    }\n",
       "\n",
       "    .dataframe tbody tr th {\n",
       "        vertical-align: top;\n",
       "    }\n",
       "\n",
       "    .dataframe thead th {\n",
       "        text-align: right;\n",
       "    }\n",
       "</style>\n",
       "<table border=\"1\" class=\"dataframe\">\n",
       "  <thead>\n",
       "    <tr style=\"text-align: right;\">\n",
       "      <th></th>\n",
       "      <th>Unnamed: 0</th>\n",
       "      <th>Unnamed: 0.1</th>\n",
       "      <th>ID</th>\n",
       "      <th>Tweet</th>\n",
       "      <th>Emotions</th>\n",
       "    </tr>\n",
       "  </thead>\n",
       "  <tbody>\n",
       "    <tr>\n",
       "      <th>0</th>\n",
       "      <td>0</td>\n",
       "      <td>0</td>\n",
       "      <td>2018-En-00866</td>\n",
       "      <td>@RanaAyyub @rajnathsingh Օ՜, թաքնված վրեժ և զա...</td>\n",
       "      <td>anger</td>\n",
       "    </tr>\n",
       "    <tr>\n",
       "      <th>1</th>\n",
       "      <td>1</td>\n",
       "      <td>1</td>\n",
       "      <td>2018-En-02590</td>\n",
       "      <td>Ես այս ամենն անում եմ, որպեսզի համոզվեմ, որ դո...</td>\n",
       "      <td>joy</td>\n",
       "    </tr>\n",
       "    <tr>\n",
       "      <th>2</th>\n",
       "      <td>2</td>\n",
       "      <td>2</td>\n",
       "      <td>2018-En-03361</td>\n",
       "      <td>եթե ոչ, ապա #teamchristine bc այն ամենը, ինչ Տ...</td>\n",
       "      <td>anger</td>\n",
       "    </tr>\n",
       "    <tr>\n",
       "      <th>3</th>\n",
       "      <td>3</td>\n",
       "      <td>3</td>\n",
       "      <td>2018-En-03230</td>\n",
       "      <td>Դա #հիանալի սկիզբ է #սկսնակների համար՝ անցնելո...</td>\n",
       "      <td>joy</td>\n",
       "    </tr>\n",
       "    <tr>\n",
       "      <th>4</th>\n",
       "      <td>4</td>\n",
       "      <td>4</td>\n",
       "      <td>2018-En-01143</td>\n",
       "      <td>Իմ լավագույն ընկերներն առաջին անգամ ինձ հետ վա...</td>\n",
       "      <td>fear</td>\n",
       "    </tr>\n",
       "  </tbody>\n",
       "</table>\n",
       "</div>"
      ],
      "text/plain": [
       "   Unnamed: 0  Unnamed: 0.1             ID  \\\n",
       "0           0             0  2018-En-00866   \n",
       "1           1             1  2018-En-02590   \n",
       "2           2             2  2018-En-03361   \n",
       "3           3             3  2018-En-03230   \n",
       "4           4             4  2018-En-01143   \n",
       "\n",
       "                                               Tweet Emotions  \n",
       "0  @RanaAyyub @rajnathsingh Օ՜, թաքնված վրեժ և զա...    anger  \n",
       "1  Ես այս ամենն անում եմ, որպեսզի համոզվեմ, որ դո...      joy  \n",
       "2  եթե ոչ, ապա #teamchristine bc այն ամենը, ինչ Տ...    anger  \n",
       "3  Դա #հիանալի սկիզբ է #սկսնակների համար՝ անցնելո...      joy  \n",
       "4  Իմ լավագույն ընկերներն առաջին անգամ ինձ հետ վա...     fear  "
      ]
     },
     "execution_count": 2,
     "metadata": {},
     "output_type": "execute_result"
    }
   ],
   "source": [
    "#open the data\n",
    "data = pd.read_csv('EmotionTest.csv', encoding = 'utf-8')\n",
    "data.head()"
   ]
  },
  {
   "cell_type": "code",
   "execution_count": 3,
   "metadata": {},
   "outputs": [
    {
     "data": {
      "text/plain": [
       "joy         294\n",
       "anger       133\n",
       "sadness      78\n",
       "fear         43\n",
       "surprise      6\n",
       "Name: Emotions, dtype: int64"
      ]
     },
     "execution_count": 3,
     "metadata": {},
     "output_type": "execute_result"
    }
   ],
   "source": [
    "data['Emotions'].value_counts()"
   ]
  },
  {
   "cell_type": "code",
   "execution_count": 4,
   "metadata": {},
   "outputs": [],
   "source": [
    "#retrieve the input and target\n",
    "with open('EmotionTestText.pickle', 'rb') as f:\n",
    "    X = pickle.load(f)\n",
    "X = X.reset_index(drop = True)\n",
    "y = data['Emotions']"
   ]
  },
  {
   "cell_type": "code",
   "execution_count": 5,
   "metadata": {},
   "outputs": [],
   "source": [
    "#open the lexicon\n",
    "with open('emotionScores.pickle', 'rb') as f:\n",
    "    scores = pickle.load(f)"
   ]
  },
  {
   "cell_type": "code",
   "execution_count": 6,
   "metadata": {},
   "outputs": [
    {
     "data": {
      "text/html": [
       "<div>\n",
       "<style scoped>\n",
       "    .dataframe tbody tr th:only-of-type {\n",
       "        vertical-align: middle;\n",
       "    }\n",
       "\n",
       "    .dataframe tbody tr th {\n",
       "        vertical-align: top;\n",
       "    }\n",
       "\n",
       "    .dataframe thead th {\n",
       "        text-align: right;\n",
       "    }\n",
       "</style>\n",
       "<table border=\"1\" class=\"dataframe\">\n",
       "  <thead>\n",
       "    <tr style=\"text-align: right;\">\n",
       "      <th></th>\n",
       "      <th>HWN_Offset</th>\n",
       "      <th>SWN_Offset</th>\n",
       "      <th>Part_of_Speech</th>\n",
       "      <th>Armenian</th>\n",
       "      <th>English</th>\n",
       "      <th>Positive</th>\n",
       "      <th>Negative</th>\n",
       "      <th>Objective</th>\n",
       "      <th>Afraid</th>\n",
       "      <th>Amused</th>\n",
       "      <th>Angry</th>\n",
       "      <th>Annoyed</th>\n",
       "      <th>Dont_Care</th>\n",
       "      <th>Happy</th>\n",
       "      <th>Inspired</th>\n",
       "      <th>Sad</th>\n",
       "    </tr>\n",
       "  </thead>\n",
       "  <tbody>\n",
       "    <tr>\n",
       "      <th>0</th>\n",
       "      <td>00014490-a</td>\n",
       "      <td>00014490</td>\n",
       "      <td>a</td>\n",
       "      <td>միանգամայն բավարար</td>\n",
       "      <td>rich,plentiful,plenteous,copious,ample</td>\n",
       "      <td>0.125000</td>\n",
       "      <td>0.000000</td>\n",
       "      <td>0.87500</td>\n",
       "      <td>0.0</td>\n",
       "      <td>0.0</td>\n",
       "      <td>0.0</td>\n",
       "      <td>0.0</td>\n",
       "      <td>0.0</td>\n",
       "      <td>0.0</td>\n",
       "      <td>0.0</td>\n",
       "      <td>0.0</td>\n",
       "    </tr>\n",
       "    <tr>\n",
       "      <th>1</th>\n",
       "      <td>00014490-a</td>\n",
       "      <td>00014490</td>\n",
       "      <td>a</td>\n",
       "      <td>լիառատ</td>\n",
       "      <td>rich,plentiful,plenteous,copious,ample</td>\n",
       "      <td>0.125000</td>\n",
       "      <td>0.000000</td>\n",
       "      <td>0.87500</td>\n",
       "      <td>0.0</td>\n",
       "      <td>0.0</td>\n",
       "      <td>0.0</td>\n",
       "      <td>0.0</td>\n",
       "      <td>0.0</td>\n",
       "      <td>0.0</td>\n",
       "      <td>0.0</td>\n",
       "      <td>0.0</td>\n",
       "    </tr>\n",
       "    <tr>\n",
       "      <th>2</th>\n",
       "      <td>00024996-a,00818008-a,01640850-a,01687167-a,,,,</td>\n",
       "      <td>00024996,00818008,01640850,01687167,00821208,0...</td>\n",
       "      <td>a</td>\n",
       "      <td>նոր</td>\n",
       "      <td>new,young,new,novel,new,fresh</td>\n",
       "      <td>0.171875</td>\n",
       "      <td>0.046875</td>\n",
       "      <td>0.78125</td>\n",
       "      <td>0.0</td>\n",
       "      <td>0.0</td>\n",
       "      <td>0.0</td>\n",
       "      <td>0.0</td>\n",
       "      <td>0.0</td>\n",
       "      <td>0.0</td>\n",
       "      <td>0.0</td>\n",
       "      <td>0.0</td>\n",
       "    </tr>\n",
       "    <tr>\n",
       "      <th>3</th>\n",
       "      <td>00025470-a</td>\n",
       "      <td>00025470</td>\n",
       "      <td>a</td>\n",
       "      <td>թթվային</td>\n",
       "      <td>acid</td>\n",
       "      <td>0.000000</td>\n",
       "      <td>0.375000</td>\n",
       "      <td>0.62500</td>\n",
       "      <td>0.0</td>\n",
       "      <td>0.0</td>\n",
       "      <td>0.0</td>\n",
       "      <td>0.0</td>\n",
       "      <td>0.0</td>\n",
       "      <td>0.0</td>\n",
       "      <td>0.0</td>\n",
       "      <td>0.0</td>\n",
       "    </tr>\n",
       "    <tr>\n",
       "      <th>4</th>\n",
       "      <td>00029933-a,</td>\n",
       "      <td>00029933,00011160</td>\n",
       "      <td>a</td>\n",
       "      <td>ագահ</td>\n",
       "      <td>prehensile,greedy,grasping,grabby,covetous,ava...</td>\n",
       "      <td>0.000000</td>\n",
       "      <td>0.000000</td>\n",
       "      <td>1.00000</td>\n",
       "      <td>0.0</td>\n",
       "      <td>0.0</td>\n",
       "      <td>0.0</td>\n",
       "      <td>0.0</td>\n",
       "      <td>0.0</td>\n",
       "      <td>0.0</td>\n",
       "      <td>0.0</td>\n",
       "      <td>0.0</td>\n",
       "    </tr>\n",
       "  </tbody>\n",
       "</table>\n",
       "</div>"
      ],
      "text/plain": [
       "                                        HWN_Offset  \\\n",
       "0                                       00014490-a   \n",
       "1                                       00014490-a   \n",
       "2  00024996-a,00818008-a,01640850-a,01687167-a,,,,   \n",
       "3                                       00025470-a   \n",
       "4                                      00029933-a,   \n",
       "\n",
       "                                          SWN_Offset Part_of_Speech  \\\n",
       "0                                           00014490              a   \n",
       "1                                           00014490              a   \n",
       "2  00024996,00818008,01640850,01687167,00821208,0...              a   \n",
       "3                                           00025470              a   \n",
       "4                                  00029933,00011160              a   \n",
       "\n",
       "             Armenian                                            English  \\\n",
       "0  միանգամայն բավարար             rich,plentiful,plenteous,copious,ample   \n",
       "1              լիառատ             rich,plentiful,plenteous,copious,ample   \n",
       "2                 նոր                      new,young,new,novel,new,fresh   \n",
       "3             թթվային                                               acid   \n",
       "4                ագահ  prehensile,greedy,grasping,grabby,covetous,ava...   \n",
       "\n",
       "   Positive  Negative  Objective  Afraid  Amused  Angry  Annoyed  Dont_Care  \\\n",
       "0  0.125000  0.000000    0.87500     0.0     0.0    0.0      0.0        0.0   \n",
       "1  0.125000  0.000000    0.87500     0.0     0.0    0.0      0.0        0.0   \n",
       "2  0.171875  0.046875    0.78125     0.0     0.0    0.0      0.0        0.0   \n",
       "3  0.000000  0.375000    0.62500     0.0     0.0    0.0      0.0        0.0   \n",
       "4  0.000000  0.000000    1.00000     0.0     0.0    0.0      0.0        0.0   \n",
       "\n",
       "   Happy  Inspired  Sad  \n",
       "0    0.0       0.0  0.0  \n",
       "1    0.0       0.0  0.0  \n",
       "2    0.0       0.0  0.0  \n",
       "3    0.0       0.0  0.0  \n",
       "4    0.0       0.0  0.0  "
      ]
     },
     "execution_count": 6,
     "metadata": {},
     "output_type": "execute_result"
    }
   ],
   "source": [
    "scores.head()"
   ]
  },
  {
   "cell_type": "code",
   "execution_count": 7,
   "metadata": {},
   "outputs": [],
   "source": [
    "#function to transform the text into a vector of size 5\n",
    "def transform(x):\n",
    "    total = 0\n",
    "    count = 0\n",
    "    score = np.zeros((len(x), 5))\n",
    "    for i in x.index:\n",
    "        s = np.zeros((len(x[i]), 5))\n",
    "        for j in range(len(x[i])):\n",
    "            total += 1\n",
    "            if x[i][j] in scores['Armenian'].values:\n",
    "                count += 1\n",
    "                ind = np.where(scores['Armenian'] == x[i][j])[0]\n",
    "                afraid, angry, happy, inspired, sad = 0, 0, 0, 0, 0, 0, 0, 0\n",
    "                for k in range(len(ind)):\n",
    "                    afraid += scores['Afraid'][ind[k]]\n",
    "                    angry += scores['Angry'][ind[k]]\n",
    "                    happy += scores['Happy'][ind[k]]\n",
    "                    inspired += scores['Inspired'][ind[k]]\n",
    "                    sad += scores['Sad'][ind[k]]\n",
    "                s[j][0] = afraid / len(ind)\n",
    "                s[j][1] = angry / len(ind)\n",
    "                s[j][2] = happy / len(ind)\n",
    "                s[j][3] = inspired / len(ind)\n",
    "                s[j][4] = sad / len(ind)\n",
    "        t = s.sum(axis = 0)\n",
    "        h = list(x.index).index(i)\n",
    "        score[h] = t\n",
    "    return [score, count, total]"
   ]
  },
  {
   "cell_type": "code",
   "execution_count": 8,
   "metadata": {},
   "outputs": [],
   "source": [
    "#transform the input data\n",
    "transformed = transform(X)\n",
    "text = pd.DataFrame(transformed[0], index = X.index)\n",
    "text.columns = ['Afraid', 'Angry', 'Happy', 'Inspired', 'Sad']"
   ]
  },
  {
   "cell_type": "code",
   "execution_count": 9,
   "metadata": {},
   "outputs": [
    {
     "data": {
      "text/plain": [
       "554"
      ]
     },
     "execution_count": 9,
     "metadata": {},
     "output_type": "execute_result"
    }
   ],
   "source": [
    "len(data)"
   ]
  },
  {
   "cell_type": "code",
   "execution_count": 10,
   "metadata": {},
   "outputs": [
    {
     "name": "stdout",
     "output_type": "stream",
     "text": [
      "59.17825020441537\n"
     ]
    }
   ],
   "source": [
    "#success rate\n",
    "print(transformed[1] / transformed[2] * 100)"
   ]
  },
  {
   "cell_type": "code",
   "execution_count": 11,
   "metadata": {},
   "outputs": [],
   "source": [
    "#baseline model to evaluate the lexicon\n",
    "results = []\n",
    "for i in range(len(text)):\n",
    "    output = list(text[['Afraid', 'Angry', 'Happy', 'Inspired', 'Sad']].loc[i].values)\n",
    "    result = output.index(max(output))\n",
    "    if result == 0:\n",
    "        results.append('fear')\n",
    "    elif result == 1:\n",
    "        results.append('anger')\n",
    "    elif result == 2:\n",
    "        results.append('joy')\n",
    "    elif result == 3:\n",
    "        results.append('surprise')\n",
    "    elif result == 4:\n",
    "        results.append('sadness')\n",
    "results = pd.Series(results, index = y.index)"
   ]
  },
  {
   "cell_type": "code",
   "execution_count": 12,
   "metadata": {},
   "outputs": [
    {
     "name": "stdout",
     "output_type": "stream",
     "text": [
      "Accuracy: 0.14981949458483754\n",
      "F-measure: [0.24731183 0.12543554 0.19941349 0.0877193  0.03333333]\n",
      "Recall: [0.17293233 0.41860465 0.11564626 0.06410256 0.5       ]\n",
      "Precision: [0.43396226 0.07377049 0.72340426 0.13888889 0.01724138]\n"
     ]
    }
   ],
   "source": [
    "#check performance\n",
    "acc = accuracy_score(y, results)\n",
    "f1 = f1_score(y, results, average = None)\n",
    "rec = recall_score(y, results, average = None)\n",
    "pre = precision_score(y, results, average = None)\n",
    "print('Accuracy:', acc)\n",
    "print('F-measure:', f1)\n",
    "print('Recall:', rec)\n",
    "print('Precision:', pre)"
   ]
  },
  {
   "cell_type": "code",
   "execution_count": 13,
   "metadata": {},
   "outputs": [
    {
     "data": {
      "text/plain": [
       "array([[ 23,  55,   3,  11,  41],\n",
       "       [  8,  18,   2,   2,  13],\n",
       "       [ 11, 131,  34,  18, 100],\n",
       "       [ 11,  38,   7,   5,  17],\n",
       "       [  0,   2,   1,   0,   3]], dtype=int64)"
      ]
     },
     "execution_count": 13,
     "metadata": {},
     "output_type": "execute_result"
    }
   ],
   "source": [
    "confusion_matrix(y, results)"
   ]
  }
 ],
 "metadata": {
  "kernelspec": {
   "display_name": "Python 3",
   "language": "python",
   "name": "python3"
  },
  "language_info": {
   "codemirror_mode": {
    "name": "ipython",
    "version": 3
   },
   "file_extension": ".py",
   "mimetype": "text/x-python",
   "name": "python",
   "nbconvert_exporter": "python",
   "pygments_lexer": "ipython3",
   "version": "3.8.3"
  }
 },
 "nbformat": 4,
 "nbformat_minor": 4
}
